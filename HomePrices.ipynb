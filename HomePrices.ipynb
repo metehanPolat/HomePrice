{
 "cells": [
  {
   "cell_type": "code",
   "execution_count": 5,
   "id": "e83b1a91",
   "metadata": {},
   "outputs": [],
   "source": [
    "import pandas as pd\n",
    "import numpy as np \n",
    "import matplotlib.pyplot as plt\n",
    "import seaborn as sns\n",
    "import pickle\n",
    "import scipy.stats as stats\n",
    "\n",
    "import tensorflow as tf\n",
    "\n",
    "from sklearn.model_selection import train_test_split\n",
    "from sklearn.pipeline import Pipeline\n",
    "from sklearn.preprocessing import RobustScaler\n",
    "from feature_engine.outliers import Winsorizer\n",
    "\n",
    "from tensorflow import keras\n",
    "from keras.callbacks import TensorBoard \n",
    "\n",
    "from sklearn.model_selection import train_test_split\n",
    "from feature_engine import imputation as mdi\n",
    "\n",
    "pd.options.display.max_columns = None\n",
    "\n",
    "from tensorflow.keras.models import Sequential\n",
    "from tensorflow.keras.layers import Dense\n",
    "\n",
    "%matplotlib inline\n",
    "\n",
    "# Jupyter Notebook'un zekasını etkinleştirir.\n",
    "%config IPCompleter.greedy=True\n",
    "\n",
    "# Tüm içerikleri göstermeyi sağlar. \n",
    "pd.set_option('display.max_colwidth', None)"
   ]
  },
  {
   "cell_type": "code",
   "execution_count": 6,
   "id": "a4496332",
   "metadata": {},
   "outputs": [],
   "source": [
    "x_train = pd.read_csv(\"House_train.csv\")\n",
    "y_train = pd.read_csv(\"House_test.csv\")\n",
    "y_test = pd.read_csv(\"House_sample_submission.csv\")\n",
    "\n",
    "x_test = x_train[\"SalePrice\"]\n",
    "x_train.drop(\"SalePrice\",axis=1,inplace=True)\n",
    "y_test.drop(\"Id\",axis=1,inplace=True)"
   ]
  },
  {
   "cell_type": "code",
   "execution_count": 7,
   "id": "ee437bf8",
   "metadata": {},
   "outputs": [
    {
     "name": "stdout",
     "output_type": "stream",
     "text": [
      "<class 'pandas.core.frame.DataFrame'>\n",
      "RangeIndex: 1460 entries, 0 to 1459\n",
      "Data columns (total 80 columns):\n",
      " #   Column         Non-Null Count  Dtype  \n",
      "---  ------         --------------  -----  \n",
      " 0   Id             1460 non-null   int64  \n",
      " 1   MSSubClass     1460 non-null   int64  \n",
      " 2   MSZoning       1460 non-null   object \n",
      " 3   LotFrontage    1201 non-null   float64\n",
      " 4   LotArea        1460 non-null   int64  \n",
      " 5   Street         1460 non-null   object \n",
      " 6   Alley          91 non-null     object \n",
      " 7   LotShape       1460 non-null   object \n",
      " 8   LandContour    1460 non-null   object \n",
      " 9   Utilities      1460 non-null   object \n",
      " 10  LotConfig      1460 non-null   object \n",
      " 11  LandSlope      1460 non-null   object \n",
      " 12  Neighborhood   1460 non-null   object \n",
      " 13  Condition1     1460 non-null   object \n",
      " 14  Condition2     1460 non-null   object \n",
      " 15  BldgType       1460 non-null   object \n",
      " 16  HouseStyle     1460 non-null   object \n",
      " 17  OverallQual    1460 non-null   int64  \n",
      " 18  OverallCond    1460 non-null   int64  \n",
      " 19  YearBuilt      1460 non-null   int64  \n",
      " 20  YearRemodAdd   1460 non-null   int64  \n",
      " 21  RoofStyle      1460 non-null   object \n",
      " 22  RoofMatl       1460 non-null   object \n",
      " 23  Exterior1st    1460 non-null   object \n",
      " 24  Exterior2nd    1460 non-null   object \n",
      " 25  MasVnrType     1452 non-null   object \n",
      " 26  MasVnrArea     1452 non-null   float64\n",
      " 27  ExterQual      1460 non-null   object \n",
      " 28  ExterCond      1460 non-null   object \n",
      " 29  Foundation     1460 non-null   object \n",
      " 30  BsmtQual       1423 non-null   object \n",
      " 31  BsmtCond       1423 non-null   object \n",
      " 32  BsmtExposure   1422 non-null   object \n",
      " 33  BsmtFinType1   1423 non-null   object \n",
      " 34  BsmtFinSF1     1460 non-null   int64  \n",
      " 35  BsmtFinType2   1422 non-null   object \n",
      " 36  BsmtFinSF2     1460 non-null   int64  \n",
      " 37  BsmtUnfSF      1460 non-null   int64  \n",
      " 38  TotalBsmtSF    1460 non-null   int64  \n",
      " 39  Heating        1460 non-null   object \n",
      " 40  HeatingQC      1460 non-null   object \n",
      " 41  CentralAir     1460 non-null   object \n",
      " 42  Electrical     1459 non-null   object \n",
      " 43  1stFlrSF       1460 non-null   int64  \n",
      " 44  2ndFlrSF       1460 non-null   int64  \n",
      " 45  LowQualFinSF   1460 non-null   int64  \n",
      " 46  GrLivArea      1460 non-null   int64  \n",
      " 47  BsmtFullBath   1460 non-null   int64  \n",
      " 48  BsmtHalfBath   1460 non-null   int64  \n",
      " 49  FullBath       1460 non-null   int64  \n",
      " 50  HalfBath       1460 non-null   int64  \n",
      " 51  BedroomAbvGr   1460 non-null   int64  \n",
      " 52  KitchenAbvGr   1460 non-null   int64  \n",
      " 53  KitchenQual    1460 non-null   object \n",
      " 54  TotRmsAbvGrd   1460 non-null   int64  \n",
      " 55  Functional     1460 non-null   object \n",
      " 56  Fireplaces     1460 non-null   int64  \n",
      " 57  FireplaceQu    770 non-null    object \n",
      " 58  GarageType     1379 non-null   object \n",
      " 59  GarageYrBlt    1379 non-null   float64\n",
      " 60  GarageFinish   1379 non-null   object \n",
      " 61  GarageCars     1460 non-null   int64  \n",
      " 62  GarageArea     1460 non-null   int64  \n",
      " 63  GarageQual     1379 non-null   object \n",
      " 64  GarageCond     1379 non-null   object \n",
      " 65  PavedDrive     1460 non-null   object \n",
      " 66  WoodDeckSF     1460 non-null   int64  \n",
      " 67  OpenPorchSF    1460 non-null   int64  \n",
      " 68  EnclosedPorch  1460 non-null   int64  \n",
      " 69  3SsnPorch      1460 non-null   int64  \n",
      " 70  ScreenPorch    1460 non-null   int64  \n",
      " 71  PoolArea       1460 non-null   int64  \n",
      " 72  PoolQC         7 non-null      object \n",
      " 73  Fence          281 non-null    object \n",
      " 74  MiscFeature    54 non-null     object \n",
      " 75  MiscVal        1460 non-null   int64  \n",
      " 76  MoSold         1460 non-null   int64  \n",
      " 77  YrSold         1460 non-null   int64  \n",
      " 78  SaleType       1460 non-null   object \n",
      " 79  SaleCondition  1460 non-null   object \n",
      "dtypes: float64(3), int64(34), object(43)\n",
      "memory usage: 912.6+ KB\n",
      "None\n"
     ]
    }
   ],
   "source": [
    "print(x_train.info())"
   ]
  },
  {
   "cell_type": "code",
   "execution_count": 4,
   "id": "f10ecdf7",
   "metadata": {},
   "outputs": [],
   "source": [
    "# çok fazla nan olanları sil\n",
    "x_train.drop(['Id','Alley','PoolQC','Fence','MiscFeature','FireplaceQu'],inplace=True,axis=1)\n",
    "y_train.drop(['Id','Alley','PoolQC','Fence','MiscFeature','FireplaceQu'],inplace=True,axis=1)"
   ]
  },
  {
   "cell_type": "code",
   "execution_count": 5,
   "id": "a3b2eb59",
   "metadata": {},
   "outputs": [],
   "source": [
    "# ****** Sadece sayısala verileri aldık *******\n",
    "# taktik : describle yaparken sadece sayısal değerler alınır bunu kullanarak sütun isimlerini aldık ve bu sütunları df yaptık\n",
    "\n",
    "dato=x_train.describe() # ortalama toplan vb bilgiler var\n",
    "columnas=dato.columns.values.tolist()\n",
    "x_train=pd.DataFrame(x_train[columnas],columns=columnas)\n",
    "\n",
    "dato=y_train.describe() \n",
    "columnas=dato.columns.values.tolist()\n",
    "y_train=pd.DataFrame(y_train[columnas],columns=columnas)\n"
   ]
  },
  {
   "cell_type": "code",
   "execution_count": 6,
   "id": "a1e175c0",
   "metadata": {},
   "outputs": [
    {
     "name": "stdout",
     "output_type": "stream",
     "text": [
      "<class 'pandas.core.frame.DataFrame'>\n",
      "RangeIndex: 1460 entries, 0 to 1459\n",
      "Data columns (total 36 columns):\n",
      " #   Column         Non-Null Count  Dtype  \n",
      "---  ------         --------------  -----  \n",
      " 0   MSSubClass     1460 non-null   int64  \n",
      " 1   LotFrontage    1201 non-null   float64\n",
      " 2   LotArea        1460 non-null   int64  \n",
      " 3   OverallQual    1460 non-null   int64  \n",
      " 4   OverallCond    1460 non-null   int64  \n",
      " 5   YearBuilt      1460 non-null   int64  \n",
      " 6   YearRemodAdd   1460 non-null   int64  \n",
      " 7   MasVnrArea     1452 non-null   float64\n",
      " 8   BsmtFinSF1     1460 non-null   int64  \n",
      " 9   BsmtFinSF2     1460 non-null   int64  \n",
      " 10  BsmtUnfSF      1460 non-null   int64  \n",
      " 11  TotalBsmtSF    1460 non-null   int64  \n",
      " 12  1stFlrSF       1460 non-null   int64  \n",
      " 13  2ndFlrSF       1460 non-null   int64  \n",
      " 14  LowQualFinSF   1460 non-null   int64  \n",
      " 15  GrLivArea      1460 non-null   int64  \n",
      " 16  BsmtFullBath   1460 non-null   int64  \n",
      " 17  BsmtHalfBath   1460 non-null   int64  \n",
      " 18  FullBath       1460 non-null   int64  \n",
      " 19  HalfBath       1460 non-null   int64  \n",
      " 20  BedroomAbvGr   1460 non-null   int64  \n",
      " 21  KitchenAbvGr   1460 non-null   int64  \n",
      " 22  TotRmsAbvGrd   1460 non-null   int64  \n",
      " 23  Fireplaces     1460 non-null   int64  \n",
      " 24  GarageYrBlt    1379 non-null   float64\n",
      " 25  GarageCars     1460 non-null   int64  \n",
      " 26  GarageArea     1460 non-null   int64  \n",
      " 27  WoodDeckSF     1460 non-null   int64  \n",
      " 28  OpenPorchSF    1460 non-null   int64  \n",
      " 29  EnclosedPorch  1460 non-null   int64  \n",
      " 30  3SsnPorch      1460 non-null   int64  \n",
      " 31  ScreenPorch    1460 non-null   int64  \n",
      " 32  PoolArea       1460 non-null   int64  \n",
      " 33  MiscVal        1460 non-null   int64  \n",
      " 34  MoSold         1460 non-null   int64  \n",
      " 35  YrSold         1460 non-null   int64  \n",
      "dtypes: float64(3), int64(33)\n",
      "memory usage: 410.8 KB\n"
     ]
    }
   ],
   "source": [
    "x_train.info()"
   ]
  },
  {
   "cell_type": "code",
   "execution_count": 7,
   "id": "528603f1",
   "metadata": {},
   "outputs": [
    {
     "data": {
      "text/plain": [
       "LotFrontage    0.177397\n",
       "MasVnrArea     0.005479\n",
       "GarageYrBlt    0.055479\n",
       "dtype: float64"
      ]
     },
     "execution_count": 7,
     "metadata": {},
     "output_type": "execute_result"
    }
   ],
   "source": [
    "# NaN sütunlar için\n",
    "\n",
    "vacios = [var for var in x_train.columns if x_train[var].isnull().mean() > 0]\n",
    "x_train[vacios].isnull().mean()"
   ]
  },
  {
   "cell_type": "code",
   "execution_count": 8,
   "id": "9123e60b",
   "metadata": {},
   "outputs": [
    {
     "name": "stdout",
     "output_type": "stream",
     "text": [
      "0       65.0\n",
      "1       80.0\n",
      "2       68.0\n",
      "3       60.0\n",
      "4       84.0\n",
      "        ... \n",
      "1455    62.0\n",
      "1456    85.0\n",
      "1457    66.0\n",
      "1458    68.0\n",
      "1459    75.0\n",
      "Name: LotFrontage, Length: 1460, dtype: float64\n"
     ]
    }
   ],
   "source": [
    "# LotFrontAge'da %5'ten fazla eksik değere sahip olduğumuz için bir devamsızlık göstergesi ekleyeceğiz.\n",
    "\n",
    "print(x_train[\"LotFrontage\"])\n",
    "''' Bu kodu bi araştır tam anlamadım ne olduğunu '''\n",
    "\n",
    "indicador= mdi.AddMissingIndicator(variables=['LotFrontage'])\n",
    "indicador.fit(x_train)\n",
    "x_train=indicador.transform(x_train)\n",
    "\n",
    "\n",
    "garaje=mdi.CategoricalImputer(imputation_method='frequent',\n",
    "                              variables=['LotFrontage'],\n",
    "                              ignore_format=True)\n",
    "garaje.fit(x_train)\n",
    "x_train=garaje.transform(x_train)\n",
    "\n",
    "# -----\n",
    "\n",
    "medianas=mdi.MeanMedianImputer(imputation_method='median',\n",
    "                               variables=['MasVnrArea','GarageYrBlt'])\n",
    "medianas.fit(x_train)\n",
    "x_train=medianas.transform(x_train)\n",
    "x_train['LotFrontage_na'] = x_train['LotFrontage_na'].astype(int)"
   ]
  },
  {
   "cell_type": "code",
   "execution_count": 9,
   "id": "491b5f5b",
   "metadata": {},
   "outputs": [
    {
     "name": "stdout",
     "output_type": "stream",
     "text": [
      "MSSubClass\n"
     ]
    },
    {
     "data": {
      "image/png": "[encoded data removed]",
      "text/plain": [
       "<Figure size 432x288 with 1 Axes>"
      ]
     },
     "metadata": {
      "needs_background": "light"
     },
     "output_type": "display_data"
    },
    {
     "name": "stdout",
     "output_type": "stream",
     "text": [
      "LotFrontage\n"
     ]
    },
    {
     "data": {
      "image/png": "[encoded data removed]",
      "text/plain": [
       "<Figure size 432x288 with 1 Axes>"
      ]
     },
     "metadata": {
      "needs_background": "light"
     },
     "output_type": "display_data"
    },
    {
     "name": "stdout",
     "output_type": "stream",
     "text": [
      "LotArea\n"
     ]
    },
    {
     "data": {
      "image/png": "[encoded data removed]",
      "text/plain": [
       "<Figure size 432x288 with 1 Axes>"
      ]
     },
     "metadata": {
      "needs_background": "light"
     },
     "output_type": "display_data"
    },
    {
     "name": "stdout",
     "output_type": "stream",
     "text": [
      "OverallQual\n"
     ]
    },
    {
     "data": {
      "image/png": "[encoded data removed]",
      "text/plain": [
       "<Figure size 432x288 with 1 Axes>"
      ]
     },
     "metadata": {
      "needs_background": "light"
     },
     "output_type": "display_data"
    },
    {
     "name": "stdout",
     "output_type": "stream",
     "text": [
      "OverallCond\n"
     ]
    },
    {
     "data": {
      "image/png": "[encoded data removed]",
      "text/plain": [
       "<Figure size 432x288 with 1 Axes>"
      ]
     },
     "metadata": {
      "needs_background": "light"
     },
     "output_type": "display_data"
    },
    {
     "name": "stdout",
     "output_type": "stream",
     "text": [
      "YearBuilt\n"
     ]
    },
    {
     "data": {
      "image/png": "[encoded data removed]",
      "text/plain": [
       "<Figure size 432x288 with 1 Axes>"
      ]
     },
     "metadata": {
      "needs_background": "light"
     },
     "output_type": "display_data"
    },
    {
     "name": "stdout",
     "output_type": "stream",
     "text": [
      "YearRemodAdd\n"
     ]
    },
    {
     "data": {
      "image/png": "[encoded data removed]",
      "text/plain": [
       "<Figure size 432x288 with 1 Axes>"
      ]
     },
     "metadata": {
      "needs_background": "light"
     },
     "output_type": "display_data"
    },
    {
     "name": "stdout",
     "output_type": "stream",
     "text": [
      "MasVnrArea\n"
     ]
    },
    {
     "data": {
      "image/png": "[encoded data removed]",
      "text/plain": [
       "<Figure size 432x288 with 1 Axes>"
      ]
     },
     "metadata": {
      "needs_background": "light"
     },
     "output_type": "display_data"
    },
    {
     "name": "stdout",
     "output_type": "stream",
     "text": [
      "BsmtFinSF1\n"
     ]
    },
    {
     "data": {
      "image/png": "[encoded data removed]",
      "text/plain": [
       "<Figure size 432x288 with 1 Axes>"
      ]
     },
     "metadata": {
      "needs_background": "light"
     },
     "output_type": "display_data"
    },
    {
     "name": "stdout",
     "output_type": "stream",
     "text": [
      "BsmtFinSF2\n"
     ]
    },
    {
     "data": {
      "image/png": "[encoded data removed]",
      "text/plain": [
       "<Figure size 432x288 with 1 Axes>"
      ]
     },
     "metadata": {
      "needs_background": "light"
     },
     "output_type": "display_data"
    },
    {
     "name": "stdout",
     "output_type": "stream",
     "text": [
      "BsmtUnfSF\n"
     ]
    },
    {
     "data": {
      "image/png": "[encoded data removed]",
      "text/plain": [
       "<Figure size 432x288 with 1 Axes>"
      ]
     },
     "metadata": {
      "needs_background": "light"
     },
     "output_type": "display_data"
    },
    {
     "name": "stdout",
     "output_type": "stream",
     "text": [
      "TotalBsmtSF\n"
     ]
    },
    {
     "data": {
      "image/png": "[encoded data removed]",
      "text/plain": [
       "<Figure size 432x288 with 1 Axes>"
      ]
     },
     "metadata": {
      "needs_background": "light"
     },
     "output_type": "display_data"
    },
    {
     "name": "stdout",
     "output_type": "stream",
     "text": [
      "1stFlrSF\n"
     ]
    },
    {
     "data": {
      "image/png": "[encoded data removed]",
      "text/plain": [
       "<Figure size 432x288 with 1 Axes>"
      ]
     },
     "metadata": {
      "needs_background": "light"
     },
     "output_type": "display_data"
    },
    {
     "name": "stdout",
     "output_type": "stream",
     "text": [
      "2ndFlrSF\n"
     ]
    },
    {
     "data": {
      "image/png": "[encoded data removed]",
      "text/plain": [
       "<Figure size 432x288 with 1 Axes>"
      ]
     },
     "metadata": {
      "needs_background": "light"
     },
     "output_type": "display_data"
    },
    {
     "name": "stdout",
     "output_type": "stream",
     "text": [
      "LowQualFinSF\n"
     ]
    },
    {
     "data": {
      "image/png": "[encoded data removed]",
      "text/plain": [
       "<Figure size 432x288 with 1 Axes>"
      ]
     },
     "metadata": {
      "needs_background": "light"
     },
     "output_type": "display_data"
    },
    {
     "name": "stdout",
     "output_type": "stream",
     "text": [
      "GrLivArea\n"
     ]
    },
    {
     "data": {
      "image/png": "[encoded data removed]",
      "text/plain": [
       "<Figure size 432x288 with 1 Axes>"
      ]
     },
     "metadata": {
      "needs_background": "light"
     },
     "output_type": "display_data"
    },
    {
     "name": "stdout",
     "output_type": "stream",
     "text": [
      "BsmtFullBath\n"
     ]
    },
    {
     "data": {
      "image/png": "[encoded data removed]",
      "text/plain": [
       "<Figure size 432x288 with 1 Axes>"
      ]
     },
     "metadata": {
      "needs_background": "light"
     },
     "output_type": "display_data"
    },
    {
     "name": "stdout",
     "output_type": "stream",
     "text": [
      "BsmtHalfBath\n"
     ]
    },
    {
     "data": {
      "image/png": "[encoded data removed]",
      "text/plain": [
       "<Figure size 432x288 with 1 Axes>"
      ]
     },
     "metadata": {
      "needs_background": "light"
     },
     "output_type": "display_data"
    },
    {
     "name": "stdout",
     "output_type": "stream",
     "text": [
      "FullBath\n"
     ]
    },
    {
     "data": {
      "image/png": "[encoded data removed]",
      "text/plain": [
       "<Figure size 432x288 with 1 Axes>"
      ]
     },
     "metadata": {
      "needs_background": "light"
     },
     "output_type": "display_data"
    },
    {
     "name": "stdout",
     "output_type": "stream",
     "text": [
      "HalfBath\n"
     ]
    },
    {
     "data": {
      "image/png": "[encoded data removed]",
      "text/plain": [
       "<Figure size 432x288 with 1 Axes>"
      ]
     },
     "metadata": {
      "needs_background": "light"
     },
     "output_type": "display_data"
    },
    {
     "name": "stdout",
     "output_type": "stream",
     "text": [
      "BedroomAbvGr\n"
     ]
    },
    {
     "data": {
      "image/png": "[encoded data removed]",
      "text/plain": [
       "<Figure size 432x288 with 1 Axes>"
      ]
     },
     "metadata": {
      "needs_background": "light"
     },
     "output_type": "display_data"
    },
    {
     "name": "stdout",
     "output_type": "stream",
     "text": [
      "KitchenAbvGr\n"
     ]
    },
    {
     "data": {
      "image/png": "[encoded data removed]",
      "text/plain": [
       "<Figure size 432x288 with 1 Axes>"
      ]
     },
     "metadata": {
      "needs_background": "light"
     },
     "output_type": "display_data"
    },
    {
     "name": "stdout",
     "output_type": "stream",
     "text": [
      "TotRmsAbvGrd\n"
     ]
    },
    {
     "data": {
      "image/png": "[encoded data removed]",
      "text/plain": [
       "<Figure size 432x288 with 1 Axes>"
      ]
     },
     "metadata": {
      "needs_background": "light"
     },
     "output_type": "display_data"
    },
    {
     "name": "stdout",
     "output_type": "stream",
     "text": [
      "Fireplaces\n"
     ]
    },
    {
     "data": {
      "image/png": "[encoded data removed]",
      "text/plain": [
       "<Figure size 432x288 with 1 Axes>"
      ]
     },
     "metadata": {
      "needs_background": "light"
     },
     "output_type": "display_data"
    },
    {
     "name": "stdout",
     "output_type": "stream",
     "text": [
      "GarageYrBlt\n"
     ]
    },
    {
     "data": {
      "image/png": "[encoded data removed]",
      "text/plain": [
       "<Figure size 432x288 with 1 Axes>"
      ]
     },
     "metadata": {
      "needs_background": "light"
     },
     "output_type": "display_data"
    },
    {
     "name": "stdout",
     "output_type": "stream",
     "text": [
      "GarageCars\n"
     ]
    },
    {
     "data": {
      "image/png": "[encoded data removed]",
      "text/plain": [
       "<Figure size 432x288 with 1 Axes>"
      ]
     },
     "metadata": {
      "needs_background": "light"
     },
     "output_type": "display_data"
    },
    {
     "name": "stdout",
     "output_type": "stream",
     "text": [
      "GarageArea\n"
     ]
    },
    {
     "data": {
      "image/png": "[encoded data removed]",
      "text/plain": [
       "<Figure size 432x288 with 1 Axes>"
      ]
     },
     "metadata": {
      "needs_background": "light"
     },
     "output_type": "display_data"
    },
    {
     "name": "stdout",
     "output_type": "stream",
     "text": [
      "WoodDeckSF\n"
     ]
    },
    {
     "data": {
      "image/png": "[encoded data removed]",
      "text/plain": [
       "<Figure size 432x288 with 1 Axes>"
      ]
     },
     "metadata": {
      "needs_background": "light"
     },
     "output_type": "display_data"
    },
    {
     "name": "stdout",
     "output_type": "stream",
     "text": [
      "OpenPorchSF\n"
     ]
    },
    {
     "data": {
      "image/png": "[encoded data removed]",
      "text/plain": [
       "<Figure size 432x288 with 1 Axes>"
      ]
     },
     "metadata": {
      "needs_background": "light"
     },
     "output_type": "display_data"
    },
    {
     "name": "stdout",
     "output_type": "stream",
     "text": [
      "EnclosedPorch\n"
     ]
    },
    {
     "data": {
      "image/png": "[encoded data removed]",
      "text/plain": [
       "<Figure size 432x288 with 1 Axes>"
      ]
     },
     "metadata": {
      "needs_background": "light"
     },
     "output_type": "display_data"
    },
    {
     "name": "stdout",
     "output_type": "stream",
     "text": [
      "3SsnPorch\n"
     ]
    },
    {
     "data": {
      "image/png": "[encoded data removed]",
      "text/plain": [
       "<Figure size 432x288 with 1 Axes>"
      ]
     },
     "metadata": {
      "needs_background": "light"
     },
     "output_type": "display_data"
    },
    {
     "name": "stdout",
     "output_type": "stream",
     "text": [
      "ScreenPorch\n"
     ]
    },
    {
     "data": {
      "image/png": "[encoded data removed]",
      "text/plain": [
       "<Figure size 432x288 with 1 Axes>"
      ]
     },
     "metadata": {
      "needs_background": "light"
     },
     "output_type": "display_data"
    },
    {
     "name": "stdout",
     "output_type": "stream",
     "text": [
      "PoolArea\n"
     ]
    },
    {
     "data": {
      "image/png": "[encoded data removed]",
      "text/plain": [
       "<Figure size 432x288 with 1 Axes>"
      ]
     },
     "metadata": {
      "needs_background": "light"
     },
     "output_type": "display_data"
    },
    {
     "name": "stdout",
     "output_type": "stream",
     "text": [
      "MiscVal\n"
     ]
    },
    {
     "data": {
      "image/png": "[encoded data removed]",
      "text/plain": [
       "<Figure size 432x288 with 1 Axes>"
      ]
     },
     "metadata": {
      "needs_background": "light"
     },
     "output_type": "display_data"
    },
    {
     "name": "stdout",
     "output_type": "stream",
     "text": [
      "MoSold\n"
     ]
    },
    {
     "data": {
      "image/png": "[encoded data removed]",
      "text/plain": [
       "<Figure size 432x288 with 1 Axes>"
      ]
     },
     "metadata": {
      "needs_background": "light"
     },
     "output_type": "display_data"
    },
    {
     "name": "stdout",
     "output_type": "stream",
     "text": [
      "YrSold\n"
     ]
    },
    {
     "data": {
      "image/png": "[encoded data removed]",
      "text/plain": [
       "<Figure size 432x288 with 1 Axes>"
      ]
     },
     "metadata": {
      "needs_background": "light"
     },
     "output_type": "display_data"
    },
    {
     "name": "stdout",
     "output_type": "stream",
     "text": [
      "LotFrontage_na\n"
     ]
    },
    {
     "data": {
      "image/png": "[encoded data removed]",
      "text/plain": [
       "<Figure size 432x288 with 1 Axes>"
      ]
     },
     "metadata": {
      "needs_background": "light"
     },
     "output_type": "display_data"
    }
   ],
   "source": [
    "def diagnostic_plots(x_train, variable):\n",
    "    plt.subplot(1, 3, 3)\n",
    "    sns.boxplot(y=x_train[variable])\n",
    "\n",
    "    plt.show()\n",
    "\n",
    "columnas=x_train.columns.values.tolist()\n",
    "for x in columnas:\n",
    "  print(x)\n",
    "  diagnostic_plots(x_train,x)"
   ]
  },
  {
   "cell_type": "code",
   "execution_count": 10,
   "id": "a1be8c6e",
   "metadata": {},
   "outputs": [],
   "source": [
    "#  Aykırı değerler için ölçekleyici uygulaması\n",
    "\n",
    "windsoriser = Winsorizer(capping_method='iqr', \n",
    "                          tail='both',\n",
    "                          fold=3,\n",
    "                          variables=['MSSubClass',\n",
    " 'LotFrontage',\n",
    " 'LotArea',\n",
    " 'OverallQual',\n",
    " 'OverallCond',\n",
    " 'YearBuilt',\n",
    " 'YearRemodAdd',\n",
    " 'MasVnrArea',\n",
    " 'BsmtFinSF1',\n",
    " 'BsmtFinSF2',\n",
    " 'BsmtUnfSF',\n",
    " 'TotalBsmtSF',\n",
    " '1stFlrSF',\n",
    " '2ndFlrSF',\n",
    " 'LowQualFinSF',\n",
    " 'GrLivArea',\n",
    " 'BsmtFullBath',\n",
    " 'BsmtHalfBath',\n",
    " 'FullBath',\n",
    " 'HalfBath',\n",
    " 'BedroomAbvGr',\n",
    " 'KitchenAbvGr',\n",
    " 'TotRmsAbvGrd',\n",
    " 'Fireplaces',\n",
    " 'GarageYrBlt',\n",
    " 'GarageCars',\n",
    " 'GarageArea',\n",
    " 'WoodDeckSF',\n",
    " 'OpenPorchSF',\n",
    " 'EnclosedPorch',\n",
    " '3SsnPorch',\n",
    " 'ScreenPorch',\n",
    " 'PoolArea',\n",
    " 'MiscVal',\n",
    " 'MoSold',\n",
    " 'YrSold'])\n",
    "\n",
    "windsoriser.fit(x_train)\n",
    "\n",
    "x_train=windsoriser.transform(x_train)"
   ]
  },
  {
   "cell_type": "code",
   "execution_count": 11,
   "id": "8b6d2b3f",
   "metadata": {},
   "outputs": [],
   "source": [
    "x_test=x_test/x_test.max()"
   ]
  },
  {
   "cell_type": "code",
   "execution_count": null,
   "id": "8c6611b4",
   "metadata": {},
   "outputs": [],
   "source": []
  },
  {
   "cell_type": "code",
   "execution_count": 12,
   "id": "c20c8c72",
   "metadata": {},
   "outputs": [],
   "source": [
    "# scaler yapmış sayıları belli bir aralığa sokmak için sanırım train test diye ayırması hala tuhafıma gidiyor\n",
    "# x_test i zaten yukarda scaler etmiştik neden tekrar ediyoruz\n",
    "\n",
    "X_train, X_test, Y_train, Y_test = train_test_split(x_train,\n",
    "                                                    x_test,\n",
    "                                                    test_size=0.05,\n",
    "                                                    random_state=0)\n",
    "scaler = RobustScaler()\n",
    "\n",
    "scaler.fit(X_train)\n",
    "\n",
    "X_train_scaled = scaler.transform(X_train)\n",
    "X_test_scaled = scaler.transform(X_test)"
   ]
  },
  {
   "cell_type": "code",
   "execution_count": 13,
   "id": "8b23398d",
   "metadata": {},
   "outputs": [],
   "source": [
    "# scaled yapınca numpy a dönüştü onu tekrar pandasa çevirelim\n",
    "\n",
    "datos=pd.DataFrame(X_train_scaled,columns=['MSSubClass',\n",
    " 'LotFrontage',\n",
    " 'LotArea',\n",
    " 'OverallQual',\n",
    " 'OverallCond',\n",
    " 'YearBuilt',\n",
    " 'YearRemodAdd',\n",
    " 'MasVnrArea',\n",
    " 'BsmtFinSF1',\n",
    " 'BsmtFinSF2',\n",
    " 'BsmtUnfSF',\n",
    " 'TotalBsmtSF',\n",
    " '1stFlrSF',\n",
    " '2ndFlrSF',\n",
    " 'LowQualFinSF',\n",
    " 'GrLivArea',\n",
    " 'BsmtFullBath',\n",
    " 'BsmtHalfBath',\n",
    " 'FullBath',\n",
    " 'HalfBath',\n",
    " 'BedroomAbvGr',\n",
    " 'KitchenAbvGr',\n",
    " 'TotRmsAbvGrd',\n",
    " 'Fireplaces',\n",
    " 'GarageYrBlt',\n",
    " 'GarageCars',\n",
    " 'GarageArea',\n",
    " 'WoodDeckSF',\n",
    " 'OpenPorchSF',\n",
    " 'EnclosedPorch',\n",
    " '3SsnPorch',\n",
    " 'ScreenPorch',\n",
    " 'PoolArea',\n",
    " 'MiscVal',\n",
    " 'MoSold',\n",
    " 'YrSold',\n",
    " 'LotFrontage_na'])\n",
    "\n",
    "datos_test=pd.DataFrame(X_test_scaled,columns=['MSSubClass',\n",
    " 'LotFrontage',\n",
    " 'LotArea',\n",
    " 'OverallQual',\n",
    " 'OverallCond',\n",
    " 'YearBuilt',\n",
    " 'YearRemodAdd',\n",
    " 'MasVnrArea',\n",
    " 'BsmtFinSF1',\n",
    " 'BsmtFinSF2',\n",
    " 'BsmtUnfSF',\n",
    " 'TotalBsmtSF',\n",
    " '1stFlrSF',\n",
    " '2ndFlrSF',\n",
    " 'LowQualFinSF',\n",
    " 'GrLivArea',\n",
    " 'BsmtFullBath',\n",
    " 'BsmtHalfBath',\n",
    " 'FullBath',\n",
    " 'HalfBath',\n",
    " 'BedroomAbvGr',\n",
    " 'KitchenAbvGr',\n",
    " 'TotRmsAbvGrd',\n",
    " 'Fireplaces',\n",
    " 'GarageYrBlt',\n",
    " 'GarageCars',\n",
    " 'GarageArea',\n",
    " 'WoodDeckSF',\n",
    " 'OpenPorchSF',\n",
    " 'EnclosedPorch',\n",
    " '3SsnPorch',\n",
    " 'ScreenPorch',\n",
    " 'PoolArea',\n",
    " 'MiscVal',\n",
    " 'MoSold',\n",
    " 'YrSold',\n",
    " 'LotFrontage_na'])"
   ]
  },
  {
   "cell_type": "code",
   "execution_count": 14,
   "id": "db1d93e6",
   "metadata": {},
   "outputs": [
    {
     "name": "stdout",
     "output_type": "stream",
     "text": [
      "      MSSubClass  LotFrontage  LotArea  OverallQual  OverallCond  YearBuilt  \\\n",
      "688         20.0         60.0   8089.0          8.0          6.0     2007.0   \n",
      "1122        20.0         60.0   8926.0          4.0          3.0     1956.0   \n",
      "866         20.0         67.0  10656.0          8.0          5.0     2006.0   \n",
      "1214        85.0         69.0  10205.0          5.0          5.0     1962.0   \n",
      "589         40.0         50.0   9100.0          5.0          6.0     1930.0   \n",
      "...          ...          ...      ...          ...          ...        ...   \n",
      "763         60.0         82.0   9430.0          8.0          5.0     1999.0   \n",
      "835         20.0         60.0   9600.0          4.0          7.0     1950.0   \n",
      "1216        90.0         68.0   8930.0          6.0          5.0     1978.0   \n",
      "559        120.0         60.0   3196.0          7.0          5.0     2003.0   \n",
      "684         60.0         58.0  16770.0          7.0          5.0     1998.0   \n",
      "\n",
      "      YearRemodAdd  MasVnrArea  BsmtFinSF1  BsmtFinSF2  BsmtUnfSF  \\\n",
      "688         2007.0         0.0       945.0         0.0      474.0   \n",
      "1122        1956.0         0.0         0.0         0.0      672.0   \n",
      "866         2007.0       274.0         0.0         0.0     1638.0   \n",
      "1214        1962.0         0.0       784.0         0.0      141.0   \n",
      "589         1960.0         0.0         0.0         0.0      742.0   \n",
      "...            ...         ...         ...         ...        ...   \n",
      "763         1999.0       657.0      1163.0         0.0       89.0   \n",
      "835         1995.0         0.0       442.0         0.0      625.0   \n",
      "1216        1978.0         0.0         0.0         0.0        0.0   \n",
      "559         2004.0        18.0         0.0         0.0     1374.0   \n",
      "684         1998.0        30.0         0.0         0.0     1195.0   \n",
      "\n",
      "      TotalBsmtSF  1stFlrSF  2ndFlrSF  LowQualFinSF  GrLivArea  BsmtFullBath  \\\n",
      "688        1419.0    1419.0       0.0           0.0     1419.0           1.0   \n",
      "1122        672.0     960.0       0.0           0.0      960.0           0.0   \n",
      "866        1638.0    1646.0       0.0           0.0     1646.0           0.0   \n",
      "1214        925.0     999.0       0.0           0.0      999.0           1.0   \n",
      "589         742.0     779.0       0.0           0.0      935.0           0.0   \n",
      "...           ...       ...       ...           ...        ...           ...   \n",
      "763        1252.0    1268.0    1097.0           0.0     2365.0           1.0   \n",
      "835        1067.0    1067.0       0.0           0.0     1067.0           0.0   \n",
      "1216          0.0    1318.0     584.0           0.0     1902.0           0.0   \n",
      "559        1374.0    1557.0       0.0           0.0     1557.0           0.0   \n",
      "684        1195.0    1195.0     644.0           0.0     1839.0           0.0   \n",
      "\n",
      "      BsmtHalfBath  FullBath  HalfBath  BedroomAbvGr  KitchenAbvGr  \\\n",
      "688            0.0       2.0       0.0           2.0           1.0   \n",
      "1122           0.0       1.0       0.0           3.0           1.0   \n",
      "866            0.0       2.0       0.0           3.0           1.0   \n",
      "1214           0.0       1.0       0.0           3.0           1.0   \n",
      "589            0.0       1.0       0.0           2.0           1.0   \n",
      "...            ...       ...       ...           ...           ...   \n",
      "763            0.0       2.0       1.0           3.0           1.0   \n",
      "835            0.0       2.0       0.0           2.0           1.0   \n",
      "1216           0.0       2.0       0.0           4.0           1.0   \n",
      "559            0.0       2.0       0.0           2.0           1.0   \n",
      "684            0.0       2.0       1.0           4.0           1.0   \n",
      "\n",
      "      TotRmsAbvGrd  Fireplaces  GarageYrBlt  GarageCars  GarageArea  \\\n",
      "688            7.0         1.0       2007.0         2.0       567.0   \n",
      "1122           5.0         0.0       1956.0         1.0       288.0   \n",
      "866            6.0         1.0       2007.0         3.0       870.0   \n",
      "1214           6.0         0.0       1962.0         1.0       300.0   \n",
      "589            4.0         0.0       1988.0         1.0       308.0   \n",
      "...            ...         ...          ...         ...         ...   \n",
      "763            8.0         1.0       1999.0         3.0       856.0   \n",
      "835            4.0         0.0       1996.0         2.0       436.0   \n",
      "1216           8.0         0.0       1978.0         2.0       539.0   \n",
      "559            7.0         1.0       2003.0         2.0       420.0   \n",
      "684            7.0         0.0       1998.0         2.0       486.0   \n",
      "\n",
      "      WoodDeckSF  OpenPorchSF  EnclosedPorch  3SsnPorch  ScreenPorch  \\\n",
      "688        140.0          0.0            0.0        0.0          0.0   \n",
      "1122        64.0          0.0            0.0        0.0          0.0   \n",
      "866        192.0         80.0            0.0        0.0          0.0   \n",
      "1214       150.0         72.0            0.0        0.0          0.0   \n",
      "589          0.0          0.0            0.0        0.0          0.0   \n",
      "...          ...          ...            ...        ...          ...   \n",
      "763          0.0        128.0            0.0        0.0          0.0   \n",
      "835        290.0          0.0            0.0        0.0          0.0   \n",
      "1216         0.0          0.0            0.0        0.0          0.0   \n",
      "559        143.0         20.0            0.0        0.0          0.0   \n",
      "684          0.0         81.0            0.0        0.0          0.0   \n",
      "\n",
      "      PoolArea  MiscVal  MoSold  YrSold  LotFrontage_na  \n",
      "688        0.0      0.0    10.0  2007.0               0  \n",
      "1122       0.0      0.0    10.0  2009.0               1  \n",
      "866        0.0      0.0    11.0  2007.0               0  \n",
      "1214       0.0      0.0     5.0  2006.0               0  \n",
      "589        0.0      0.0     8.0  2008.0               0  \n",
      "...        ...      ...     ...     ...             ...  \n",
      "763        0.0      0.0     7.0  2009.0               0  \n",
      "835        0.0      0.0     2.0  2010.0               0  \n",
      "1216       0.0      0.0     4.0  2010.0               0  \n",
      "559        0.0      0.0    10.0  2006.0               1  \n",
      "684        0.0      0.0     6.0  2010.0               0  \n",
      "\n",
      "[1387 rows x 37 columns]\n"
     ]
    }
   ],
   "source": [
    "# verielri tensör e çevirdik (tensörün verinin (1D 2D )boyutunu arttırma gibi bi anlamı var)\n",
    "# convert_to_tensor veriyi tensör e çevirir. Yani istenilen boyuta çevirir.\n",
    "print(X_train)\n",
    "X_train=tf.convert_to_tensor(X_train_scaled,np.float64)\n",
    "Y_train=tf.convert_to_tensor(Y_train,np.float64)\n",
    "\n",
    "X_test=tf.convert_to_tensor(X_test_scaled,np.float64)\n",
    "Y_test=tf.convert_to_tensor(Y_test,np.float64)"
   ]
  },
  {
   "cell_type": "code",
   "execution_count": 15,
   "id": "4104537c",
   "metadata": {},
   "outputs": [
    {
     "data": {
      "text/plain": [
       "'  Sanırım pandası makine öğrenmesine veremediği için numpya çevirmiş  '"
      ]
     },
     "execution_count": 15,
     "metadata": {},
     "output_type": "execute_result"
    }
   ],
   "source": [
    "'''  Sanırım pandası makine öğrenmesine veremediği için numpya çevirmiş  '''\n",
    "X_train"
   ]
  },
  {
   "cell_type": "code",
   "execution_count": 17,
   "id": "24240341",
   "metadata": {},
   "outputs": [
    {
     "name": "stdout",
     "output_type": "stream",
     "text": [
      "Model: \"multilineal_regression\"\n",
      "_________________________________________________________________\n",
      "Layer (type)                 Output Shape              Param #   \n",
      "=================================================================\n",
      "dense_5 (Dense)              (None, 37)                1406      \n",
      "_________________________________________________________________\n",
      "dense_6 (Dense)              (None, 95)                3610      \n",
      "_________________________________________________________________\n",
      "dense_7 (Dense)              (None, 180)               17280     \n",
      "_________________________________________________________________\n",
      "dense_8 (Dense)              (None, 360)               65160     \n",
      "_________________________________________________________________\n",
      "dense_9 (Dense)              (None, 1)                 361       \n",
      "=================================================================\n",
      "Total params: 87,817\n",
      "Trainable params: 87,817\n",
      "Non-trainable params: 0\n",
      "_________________________________________________________________\n"
     ]
    }
   ],
   "source": [
    "layers=[Dense(units=37,  \n",
    "                           input_shape=(37,),\n",
    "                           kernel_initializer=\"he_uniform\",\n",
    "                           activation='relu',\n",
    "                           kernel_regularizer=keras.regularizers.l1(l=0.001)),\n",
    "                              \n",
    "        Dense(units=95,\n",
    "                           kernel_initializer=\"he_uniform\",\n",
    "                           activation='relu',\n",
    "                           kernel_regularizer=keras.regularizers.l1(l=0.001)),\n",
    "        Dense(units=180,\n",
    "                           kernel_initializer=\"he_uniform\",\n",
    "                           activation='relu',\n",
    "                           kernel_regularizer=keras.regularizers.l1(l=0.001)),\n",
    "        Dense(units=360,\n",
    "                           kernel_initializer=\"he_uniform\",\n",
    "                           activation='relu',\n",
    "                           kernel_regularizer=keras.regularizers.l1(l=0.001)),\n",
    "        \n",
    "        Dense(units=1,\n",
    "                           kernel_initializer=\"he_uniform\",\n",
    "                           activation=tf.keras.activations.linear)]\n",
    "\n",
    "model=Sequential(layers,name=\"multilineal_regression\")\n",
    "\n",
    "model.compile(optimizer= \"adam\",\n",
    "              loss=\"mae\",\n",
    "              metrics=[ \"mse\"])\n",
    "\n",
    "model.summary()"
   ]
  },
  {
   "cell_type": "code",
   "execution_count": 20,
   "id": "a2f723b9",
   "metadata": {},
   "outputs": [
    {
     "name": "stdout",
     "output_type": "stream",
     "text": [
      "Epoch 1/500\n",
      "4/4 [==============================] - 3s 190ms/step - loss: 9.9298 - mse: 1.2859 - val_loss: 9.6347 - val_mse: 0.7356\n",
      "Epoch 2/500\n",
      "4/4 [==============================] - 0s 22ms/step - loss: 9.3232 - mse: 0.3563 - val_loss: 9.3153 - val_mse: 0.4011\n",
      "Epoch 3/500\n",
      "4/4 [==============================] - 0s 22ms/step - loss: 9.0967 - mse: 0.2183 - val_loss: 8.9275 - val_mse: 0.1687\n",
      "Epoch 4/500\n",
      "4/4 [==============================] - 0s 23ms/step - loss: 8.8753 - mse: 0.1610 - val_loss: 8.6269 - val_mse: 0.0528\n",
      "Epoch 5/500\n",
      "4/4 [==============================] - 0s 23ms/step - loss: 8.6385 - mse: 0.0821 - val_loss: 8.4763 - val_mse: 0.0537\n",
      "Epoch 6/500\n",
      "4/4 [==============================] - 0s 22ms/step - loss: 8.4169 - mse: 0.0483 - val_loss: 8.3400 - val_mse: 0.0626\n",
      "Epoch 7/500\n",
      "4/4 [==============================] - 0s 22ms/step - loss: 8.2506 - mse: 0.0436 - val_loss: 8.1575 - val_mse: 0.0498\n",
      "Epoch 8/500\n",
      "4/4 [==============================] - 0s 24ms/step - loss: 8.0825 - mse: 0.0312 - val_loss: 7.9782 - val_mse: 0.0334\n",
      "Epoch 9/500\n",
      "4/4 [==============================] - 0s 23ms/step - loss: 7.9145 - mse: 0.0286 - val_loss: 7.8026 - val_mse: 0.0273\n",
      "Epoch 10/500\n",
      "4/4 [==============================] - 0s 22ms/step - loss: 7.7500 - mse: 0.0214 - val_loss: 7.6330 - val_mse: 0.0197\n",
      "Epoch 11/500\n",
      "4/4 [==============================] - 0s 22ms/step - loss: 7.5810 - mse: 0.0172 - val_loss: 7.4807 - val_mse: 0.0196\n",
      "Epoch 12/500\n",
      "4/4 [==============================] - 0s 22ms/step - loss: 7.4205 - mse: 0.0127 - val_loss: 7.3198 - val_mse: 0.0144\n",
      "Epoch 13/500\n",
      "4/4 [==============================] - 0s 22ms/step - loss: 7.2632 - mse: 0.0114 - val_loss: 7.1673 - val_mse: 0.0141\n",
      "Epoch 14/500\n",
      "4/4 [==============================] - 0s 22ms/step - loss: 7.1105 - mse: 0.0091 - val_loss: 7.0161 - val_mse: 0.0112\n",
      "Epoch 15/500\n",
      "4/4 [==============================] - 0s 23ms/step - loss: 6.9608 - mse: 0.0089 - val_loss: 6.8732 - val_mse: 0.0119\n",
      "Epoch 16/500\n",
      "4/4 [==============================] - 0s 24ms/step - loss: 6.8137 - mse: 0.0081 - val_loss: 6.7224 - val_mse: 0.0096\n",
      "Epoch 17/500\n",
      "4/4 [==============================] - 0s 23ms/step - loss: 6.6671 - mse: 0.0065 - val_loss: 6.5799 - val_mse: 0.0089\n",
      "Epoch 18/500\n",
      "4/4 [==============================] - 0s 24ms/step - loss: 6.5223 - mse: 0.0058 - val_loss: 6.4398 - val_mse: 0.0085\n",
      "Epoch 19/500\n",
      "4/4 [==============================] - 0s 23ms/step - loss: 6.3829 - mse: 0.0056 - val_loss: 6.3012 - val_mse: 0.0075\n",
      "Epoch 20/500\n",
      "4/4 [==============================] - 0s 22ms/step - loss: 6.2421 - mse: 0.0044 - val_loss: 6.1654 - val_mse: 0.0066\n",
      "Epoch 21/500\n",
      "4/4 [==============================] - 0s 22ms/step - loss: 6.1056 - mse: 0.0040 - val_loss: 6.0298 - val_mse: 0.0059\n",
      "Epoch 22/500\n",
      "4/4 [==============================] - 0s 22ms/step - loss: 5.9733 - mse: 0.0036 - val_loss: 5.9014 - val_mse: 0.0059\n",
      "Epoch 23/500\n",
      "4/4 [==============================] - 0s 22ms/step - loss: 5.8427 - mse: 0.0033 - val_loss: 5.7743 - val_mse: 0.0056\n",
      "Epoch 24/500\n",
      "4/4 [==============================] - 0s 21ms/step - loss: 5.7169 - mse: 0.0032 - val_loss: 5.6469 - val_mse: 0.0049\n",
      "Epoch 25/500\n",
      "4/4 [==============================] - 0s 22ms/step - loss: 5.5919 - mse: 0.0029 - val_loss: 5.5286 - val_mse: 0.0051\n",
      "Epoch 26/500\n",
      "4/4 [==============================] - 0s 22ms/step - loss: 5.4694 - mse: 0.0028 - val_loss: 5.4040 - val_mse: 0.0043\n",
      "Epoch 27/500\n",
      "4/4 [==============================] - 0s 22ms/step - loss: 5.3502 - mse: 0.0025 - val_loss: 5.2910 - val_mse: 0.0046\n",
      "Epoch 28/500\n",
      "4/4 [==============================] - 0s 23ms/step - loss: 5.2335 - mse: 0.0023 - val_loss: 5.1818 - val_mse: 0.0052\n",
      "Epoch 29/500\n",
      "4/4 [==============================] - 0s 22ms/step - loss: 5.1253 - mse: 0.0026 - val_loss: 5.0643 - val_mse: 0.0039\n",
      "Epoch 30/500\n",
      "4/4 [==============================] - 0s 23ms/step - loss: 5.0125 - mse: 0.0022 - val_loss: 4.9618 - val_mse: 0.0048\n",
      "Epoch 31/500\n",
      "4/4 [==============================] - 0s 23ms/step - loss: 4.9087 - mse: 0.0022 - val_loss: 4.8608 - val_mse: 0.0052\n",
      "Epoch 32/500\n",
      "4/4 [==============================] - 0s 22ms/step - loss: 4.8095 - mse: 0.0024 - val_loss: 4.7579 - val_mse: 0.0047\n",
      "Epoch 33/500\n",
      "4/4 [==============================] - 0s 21ms/step - loss: 4.7116 - mse: 0.0026 - val_loss: 4.6623 - val_mse: 0.0051\n",
      "Epoch 34/500\n",
      "4/4 [==============================] - 0s 22ms/step - loss: 4.6171 - mse: 0.0028 - val_loss: 4.5688 - val_mse: 0.0052\n",
      "Epoch 35/500\n",
      "4/4 [==============================] - 0s 22ms/step - loss: 4.5211 - mse: 0.0025 - val_loss: 4.4723 - val_mse: 0.0043\n",
      "Epoch 36/500\n",
      "4/4 [==============================] - 0s 23ms/step - loss: 4.4272 - mse: 0.0020 - val_loss: 4.3816 - val_mse: 0.0039\n",
      "Epoch 37/500\n",
      "4/4 [==============================] - 0s 23ms/step - loss: 4.3389 - mse: 0.0019 - val_loss: 4.2980 - val_mse: 0.0038\n",
      "Epoch 38/500\n",
      "4/4 [==============================] - 0s 23ms/step - loss: 4.2556 - mse: 0.0019 - val_loss: 4.2154 - val_mse: 0.0036\n",
      "Epoch 39/500\n",
      "4/4 [==============================] - 0s 22ms/step - loss: 4.1711 - mse: 0.0017 - val_loss: 4.1368 - val_mse: 0.0034\n",
      "Epoch 40/500\n",
      "4/4 [==============================] - 0s 26ms/step - loss: 4.0921 - mse: 0.0014 - val_loss: 4.0648 - val_mse: 0.0040\n",
      "Epoch 41/500\n",
      "4/4 [==============================] - 0s 22ms/step - loss: 4.0231 - mse: 0.0019 - val_loss: 3.9921 - val_mse: 0.0038\n",
      "Epoch 42/500\n",
      "4/4 [==============================] - 0s 22ms/step - loss: 3.9515 - mse: 0.0018 - val_loss: 3.9155 - val_mse: 0.0029\n",
      "Epoch 43/500\n",
      "4/4 [==============================] - 0s 22ms/step - loss: 3.8771 - mse: 0.0014 - val_loss: 3.8516 - val_mse: 0.0033\n",
      "Epoch 44/500\n",
      "4/4 [==============================] - 0s 22ms/step - loss: 3.8110 - mse: 0.0013 - val_loss: 3.7867 - val_mse: 0.0030\n",
      "Epoch 45/500\n",
      "4/4 [==============================] - 0s 22ms/step - loss: 3.7467 - mse: 0.0012 - val_loss: 3.7261 - val_mse: 0.0030\n",
      "Epoch 46/500\n",
      "4/4 [==============================] - 0s 22ms/step - loss: 3.6867 - mse: 0.0011 - val_loss: 3.6727 - val_mse: 0.0038\n",
      "Epoch 47/500\n",
      "4/4 [==============================] - 0s 21ms/step - loss: 3.6356 - mse: 0.0015 - val_loss: 3.6129 - val_mse: 0.0029\n",
      "Epoch 48/500\n",
      "4/4 [==============================] - 0s 22ms/step - loss: 3.5764 - mse: 0.0011 - val_loss: 3.5565 - val_mse: 0.0026\n",
      "Epoch 49/500\n",
      "4/4 [==============================] - 0s 24ms/step - loss: 3.5241 - mse: 0.0013 - val_loss: 3.5076 - val_mse: 0.0033\n",
      "Epoch 50/500\n",
      "4/4 [==============================] - 0s 21ms/step - loss: 3.4725 - mse: 0.0013 - val_loss: 3.4540 - val_mse: 0.0028\n",
      "Epoch 51/500\n",
      "4/4 [==============================] - 0s 23ms/step - loss: 3.4202 - mse: 0.0012 - val_loss: 3.4040 - val_mse: 0.0027\n",
      "Epoch 52/500\n",
      "4/4 [==============================] - 0s 23ms/step - loss: 3.3716 - mse: 0.0013 - val_loss: 3.3559 - val_mse: 0.0027\n",
      "Epoch 53/500\n",
      "4/4 [==============================] - 0s 23ms/step - loss: 3.3213 - mse: 0.0011 - val_loss: 3.3052 - val_mse: 0.0023\n",
      "Epoch 54/500\n",
      "4/4 [==============================] - 0s 23ms/step - loss: 3.2742 - mse: 0.0011 - val_loss: 3.2605 - val_mse: 0.0024\n",
      "Epoch 55/500\n",
      "4/4 [==============================] - 0s 22ms/step - loss: 3.2288 - mse: 0.0010 - val_loss: 3.2154 - val_mse: 0.0024\n",
      "Epoch 56/500\n",
      "4/4 [==============================] - 0s 22ms/step - loss: 3.1843 - mse: 0.0011 - val_loss: 3.1712 - val_mse: 0.0023\n",
      "Epoch 57/500\n",
      "4/4 [==============================] - 0s 22ms/step - loss: 3.1398 - mse: 0.0010 - val_loss: 3.1294 - val_mse: 0.0024\n",
      "Epoch 58/500\n",
      "4/4 [==============================] - 0s 22ms/step - loss: 3.0965 - mse: 9.9162e-04 - val_loss: 3.0867 - val_mse: 0.0024\n",
      "Epoch 59/500\n",
      "4/4 [==============================] - 0s 23ms/step - loss: 3.0565 - mse: 0.0011 - val_loss: 3.0452 - val_mse: 0.0022\n",
      "Epoch 60/500\n",
      "4/4 [==============================] - 0s 22ms/step - loss: 3.0142 - mse: 9.8863e-04 - val_loss: 3.0043 - val_mse: 0.0021\n",
      "Epoch 61/500\n",
      "4/4 [==============================] - 0s 22ms/step - loss: 2.9754 - mse: 9.6890e-04 - val_loss: 2.9660 - val_mse: 0.0022\n",
      "Epoch 62/500\n",
      "4/4 [==============================] - 0s 23ms/step - loss: 2.9353 - mse: 9.2291e-04 - val_loss: 2.9270 - val_mse: 0.0020\n",
      "Epoch 63/500\n",
      "4/4 [==============================] - 0s 22ms/step - loss: 2.8980 - mse: 9.0910e-04 - val_loss: 2.8907 - val_mse: 0.0023\n",
      "Epoch 64/500\n",
      "4/4 [==============================] - 0s 23ms/step - loss: 2.8625 - mse: 0.0010 - val_loss: 2.8561 - val_mse: 0.0024\n",
      "Epoch 65/500\n",
      "4/4 [==============================] - 0s 23ms/step - loss: 2.8288 - mse: 0.0011 - val_loss: 2.8177 - val_mse: 0.0019\n",
      "Epoch 66/500\n",
      "4/4 [==============================] - 0s 22ms/step - loss: 2.7920 - mse: 0.0011 - val_loss: 2.7863 - val_mse: 0.0024\n",
      "Epoch 67/500\n",
      "4/4 [==============================] - 0s 23ms/step - loss: 2.7588 - mse: 0.0011 - val_loss: 2.7511 - val_mse: 0.0023\n",
      "Epoch 68/500\n",
      "4/4 [==============================] - 0s 23ms/step - loss: 2.7224 - mse: 9.7062e-04 - val_loss: 2.7150 - val_mse: 0.0020\n",
      "Epoch 69/500\n",
      "4/4 [==============================] - 0s 22ms/step - loss: 2.6875 - mse: 9.1357e-04 - val_loss: 2.6810 - val_mse: 0.0019\n",
      "Epoch 70/500\n",
      "4/4 [==============================] - 0s 23ms/step - loss: 2.6553 - mse: 9.3545e-04 - val_loss: 2.6494 - val_mse: 0.0020\n",
      "Epoch 71/500\n",
      "4/4 [==============================] - 0s 23ms/step - loss: 2.6243 - mse: 9.6660e-04 - val_loss: 2.6188 - val_mse: 0.0020\n",
      "Epoch 72/500\n",
      "4/4 [==============================] - 0s 22ms/step - loss: 2.5998 - mse: 0.0014 - val_loss: 2.5995 - val_mse: 0.0033\n",
      "Epoch 73/500\n",
      "4/4 [==============================] - 0s 23ms/step - loss: 2.5820 - mse: 0.0022 - val_loss: 2.5585 - val_mse: 0.0020\n",
      "Epoch 74/500\n",
      "4/4 [==============================] - 0s 23ms/step - loss: 2.5424 - mse: 0.0015 - val_loss: 2.5268 - val_mse: 0.0017\n",
      "Epoch 75/500\n",
      "4/4 [==============================] - 0s 23ms/step - loss: 2.5056 - mse: 0.0011 - val_loss: 2.4992 - val_mse: 0.0020\n",
      "Epoch 76/500\n",
      "4/4 [==============================] - 0s 22ms/step - loss: 2.4790 - mse: 0.0013 - val_loss: 2.4683 - val_mse: 0.0019\n",
      "Epoch 77/500\n",
      "4/4 [==============================] - 0s 23ms/step - loss: 2.4462 - mse: 0.0010 - val_loss: 2.4386 - val_mse: 0.0018\n",
      "Epoch 78/500\n",
      "4/4 [==============================] - 0s 23ms/step - loss: 2.4170 - mse: 0.0010 - val_loss: 2.4114 - val_mse: 0.0019\n",
      "Epoch 79/500\n",
      "4/4 [==============================] - 0s 22ms/step - loss: 2.3888 - mse: 9.7117e-04 - val_loss: 2.3830 - val_mse: 0.0017\n",
      "Epoch 80/500\n",
      "4/4 [==============================] - 0s 23ms/step - loss: 2.3608 - mse: 9.5188e-04 - val_loss: 2.3559 - val_mse: 0.0017\n",
      "Epoch 81/500\n",
      "4/4 [==============================] - 0s 24ms/step - loss: 2.3337 - mse: 9.3913e-04 - val_loss: 2.3287 - val_mse: 0.0016\n",
      "Epoch 82/500\n",
      "4/4 [==============================] - 0s 23ms/step - loss: 2.3070 - mse: 9.5941e-04 - val_loss: 2.3037 - val_mse: 0.0017\n",
      "Epoch 83/500\n",
      "4/4 [==============================] - 0s 22ms/step - loss: 2.2840 - mse: 0.0011 - val_loss: 2.2764 - val_mse: 0.0016\n",
      "Epoch 84/500\n",
      "4/4 [==============================] - 0s 23ms/step - loss: 2.2566 - mse: 0.0011 - val_loss: 2.2525 - val_mse: 0.0017\n",
      "Epoch 85/500\n",
      "4/4 [==============================] - 0s 22ms/step - loss: 2.2332 - mse: 0.0011 - val_loss: 2.2260 - val_mse: 0.0015\n",
      "Epoch 86/500\n",
      "4/4 [==============================] - 0s 22ms/step - loss: 2.2075 - mse: 0.0011 - val_loss: 2.2016 - val_mse: 0.0016\n",
      "Epoch 87/500\n",
      "4/4 [==============================] - 0s 23ms/step - loss: 2.1811 - mse: 0.0010 - val_loss: 2.1762 - val_mse: 0.0015\n",
      "Epoch 88/500\n",
      "4/4 [==============================] - 0s 23ms/step - loss: 2.1565 - mse: 0.0010 - val_loss: 2.1525 - val_mse: 0.0015\n",
      "Epoch 89/500\n",
      "4/4 [==============================] - 0s 22ms/step - loss: 2.1330 - mse: 0.0010 - val_loss: 2.1291 - val_mse: 0.0016\n",
      "Epoch 90/500\n",
      "4/4 [==============================] - 0s 23ms/step - loss: 2.1092 - mse: 0.0010 - val_loss: 2.1054 - val_mse: 0.0015\n",
      "Epoch 91/500\n",
      "4/4 [==============================] - 0s 23ms/step - loss: 2.0860 - mse: 0.0010 - val_loss: 2.0828 - val_mse: 0.0016\n",
      "Epoch 92/500\n",
      "4/4 [==============================] - 0s 22ms/step - loss: 2.0645 - mse: 0.0010 - val_loss: 2.0595 - val_mse: 0.0014\n",
      "Epoch 93/500\n",
      "4/4 [==============================] - 0s 22ms/step - loss: 2.0414 - mse: 0.0011 - val_loss: 2.0373 - val_mse: 0.0015\n",
      "Epoch 94/500\n",
      "4/4 [==============================] - 0s 23ms/step - loss: 2.0198 - mse: 0.0011 - val_loss: 2.0164 - val_mse: 0.0016\n",
      "Epoch 95/500\n",
      "4/4 [==============================] - 0s 23ms/step - loss: 1.9981 - mse: 0.0011 - val_loss: 1.9932 - val_mse: 0.0014\n",
      "Epoch 96/500\n",
      "4/4 [==============================] - 0s 22ms/step - loss: 1.9755 - mse: 0.0012 - val_loss: 1.9721 - val_mse: 0.0015\n",
      "Epoch 97/500\n",
      "4/4 [==============================] - 0s 22ms/step - loss: 1.9541 - mse: 0.0011 - val_loss: 1.9498 - val_mse: 0.0014\n",
      "Epoch 98/500\n",
      "4/4 [==============================] - 0s 22ms/step - loss: 1.9327 - mse: 0.0011 - val_loss: 1.9303 - val_mse: 0.0015\n",
      "Epoch 99/500\n",
      "4/4 [==============================] - 0s 22ms/step - loss: 1.9117 - mse: 0.0011 - val_loss: 1.9076 - val_mse: 0.0014\n",
      "Epoch 100/500\n",
      "4/4 [==============================] - 0s 22ms/step - loss: 1.8911 - mse: 0.0011 - val_loss: 1.8871 - val_mse: 0.0013\n",
      "Epoch 101/500\n",
      "4/4 [==============================] - 0s 23ms/step - loss: 1.8706 - mse: 0.0011 - val_loss: 1.8667 - val_mse: 0.0014\n",
      "Epoch 102/500\n",
      "4/4 [==============================] - 0s 23ms/step - loss: 1.8510 - mse: 0.0011 - val_loss: 1.8468 - val_mse: 0.0013\n",
      "Epoch 103/500\n",
      "4/4 [==============================] - 0s 24ms/step - loss: 1.8310 - mse: 0.0011 - val_loss: 1.8266 - val_mse: 0.0013\n",
      "Epoch 104/500\n",
      "4/4 [==============================] - 0s 23ms/step - loss: 1.8108 - mse: 0.0011 - val_loss: 1.8074 - val_mse: 0.0013\n",
      "Epoch 105/500\n",
      "4/4 [==============================] - 0s 24ms/step - loss: 1.7915 - mse: 0.0011 - val_loss: 1.7883 - val_mse: 0.0013\n",
      "Epoch 106/500\n",
      "4/4 [==============================] - 0s 22ms/step - loss: 1.7731 - mse: 0.0012 - val_loss: 1.7694 - val_mse: 0.0013\n",
      "Epoch 107/500\n",
      "4/4 [==============================] - 0s 22ms/step - loss: 1.7547 - mse: 0.0012 - val_loss: 1.7492 - val_mse: 0.0012\n",
      "Epoch 108/500\n",
      "4/4 [==============================] - 0s 23ms/step - loss: 1.7353 - mse: 0.0012 - val_loss: 1.7334 - val_mse: 0.0014\n",
      "Epoch 109/500\n",
      "4/4 [==============================] - 0s 22ms/step - loss: 1.7185 - mse: 0.0013 - val_loss: 1.7119 - val_mse: 0.0011\n",
      "Epoch 110/500\n",
      "4/4 [==============================] - 0s 23ms/step - loss: 1.6985 - mse: 0.0012 - val_loss: 1.6948 - val_mse: 0.0012\n",
      "Epoch 111/500\n",
      "4/4 [==============================] - 0s 22ms/step - loss: 1.6812 - mse: 0.0011 - val_loss: 1.6778 - val_mse: 0.0012\n",
      "Epoch 112/500\n",
      "4/4 [==============================] - 0s 22ms/step - loss: 1.6638 - mse: 0.0012 - val_loss: 1.6601 - val_mse: 0.0013\n",
      "Epoch 113/500\n",
      "4/4 [==============================] - 0s 22ms/step - loss: 1.6458 - mse: 0.0012 - val_loss: 1.6414 - val_mse: 0.0011\n",
      "Epoch 114/500\n",
      "4/4 [==============================] - 0s 25ms/step - loss: 1.6277 - mse: 0.0012 - val_loss: 1.6245 - val_mse: 0.0011\n",
      "Epoch 115/500\n",
      "4/4 [==============================] - 0s 21ms/step - loss: 1.6112 - mse: 0.0012 - val_loss: 1.6068 - val_mse: 0.0011\n",
      "Epoch 116/500\n",
      "4/4 [==============================] - 0s 22ms/step - loss: 1.5943 - mse: 0.0012 - val_loss: 1.5891 - val_mse: 0.0011\n",
      "Epoch 117/500\n",
      "4/4 [==============================] - 0s 22ms/step - loss: 1.5772 - mse: 0.0012 - val_loss: 1.5732 - val_mse: 0.0011\n",
      "Epoch 118/500\n",
      "4/4 [==============================] - 0s 23ms/step - loss: 1.5604 - mse: 0.0012 - val_loss: 1.5563 - val_mse: 0.0011\n",
      "Epoch 119/500\n",
      "4/4 [==============================] - 0s 22ms/step - loss: 1.5436 - mse: 0.0012 - val_loss: 1.5398 - val_mse: 0.0010\n",
      "Epoch 120/500\n",
      "4/4 [==============================] - 0s 23ms/step - loss: 1.5276 - mse: 0.0012 - val_loss: 1.5254 - val_mse: 0.0011\n",
      "Epoch 121/500\n",
      "4/4 [==============================] - 0s 22ms/step - loss: 1.5136 - mse: 0.0013 - val_loss: 1.5088 - val_mse: 0.0011\n",
      "Epoch 122/500\n",
      "4/4 [==============================] - 0s 22ms/step - loss: 1.4977 - mse: 0.0013 - val_loss: 1.4922 - val_mse: 0.0010\n",
      "Epoch 123/500\n",
      "4/4 [==============================] - 0s 23ms/step - loss: 1.4817 - mse: 0.0013 - val_loss: 1.4763 - val_mse: 9.8612e-04\n",
      "Epoch 124/500\n",
      "4/4 [==============================] - 0s 22ms/step - loss: 1.4656 - mse: 0.0012 - val_loss: 1.4614 - val_mse: 0.0010\n",
      "Epoch 125/500\n"
     ]
    },
    {
     "name": "stdout",
     "output_type": "stream",
     "text": [
      "4/4 [==============================] - 0s 22ms/step - loss: 1.4507 - mse: 0.0012 - val_loss: 1.4461 - val_mse: 9.7911e-04\n",
      "Epoch 126/500\n",
      "4/4 [==============================] - 0s 22ms/step - loss: 1.4349 - mse: 0.0012 - val_loss: 1.4307 - val_mse: 9.9584e-04\n",
      "Epoch 127/500\n",
      "4/4 [==============================] - 0s 22ms/step - loss: 1.4206 - mse: 0.0013 - val_loss: 1.4163 - val_mse: 9.7830e-04\n",
      "Epoch 128/500\n",
      "4/4 [==============================] - 0s 22ms/step - loss: 1.4054 - mse: 0.0012 - val_loss: 1.4013 - val_mse: 9.4865e-04\n",
      "Epoch 129/500\n",
      "4/4 [==============================] - 0s 22ms/step - loss: 1.3909 - mse: 0.0013 - val_loss: 1.3869 - val_mse: 9.8647e-04\n",
      "Epoch 130/500\n",
      "4/4 [==============================] - 0s 23ms/step - loss: 1.3767 - mse: 0.0013 - val_loss: 1.3719 - val_mse: 9.2050e-04\n",
      "Epoch 131/500\n",
      "4/4 [==============================] - 0s 22ms/step - loss: 1.3622 - mse: 0.0013 - val_loss: 1.3590 - val_mse: 0.0010\n",
      "Epoch 132/500\n",
      "4/4 [==============================] - 0s 22ms/step - loss: 1.3486 - mse: 0.0013 - val_loss: 1.3440 - val_mse: 9.3475e-04\n",
      "Epoch 133/500\n",
      "4/4 [==============================] - 0s 23ms/step - loss: 1.3341 - mse: 0.0013 - val_loss: 1.3298 - val_mse: 9.1177e-04\n",
      "Epoch 134/500\n",
      "4/4 [==============================] - 0s 22ms/step - loss: 1.3205 - mse: 0.0013 - val_loss: 1.3161 - val_mse: 9.0092e-04\n",
      "Epoch 135/500\n",
      "4/4 [==============================] - 0s 22ms/step - loss: 1.3069 - mse: 0.0013 - val_loss: 1.3037 - val_mse: 9.7607e-04\n",
      "Epoch 136/500\n",
      "4/4 [==============================] - 0s 22ms/step - loss: 1.2958 - mse: 0.0014 - val_loss: 1.2904 - val_mse: 9.5576e-04\n",
      "Epoch 137/500\n",
      "4/4 [==============================] - 0s 22ms/step - loss: 1.2833 - mse: 0.0014 - val_loss: 1.2755 - val_mse: 8.4656e-04\n",
      "Epoch 138/500\n",
      "4/4 [==============================] - 0s 22ms/step - loss: 1.2683 - mse: 0.0013 - val_loss: 1.2621 - val_mse: 8.4749e-04\n",
      "Epoch 139/500\n",
      "4/4 [==============================] - 0s 22ms/step - loss: 1.2548 - mse: 0.0013 - val_loss: 1.2490 - val_mse: 8.5033e-04\n",
      "Epoch 140/500\n",
      "4/4 [==============================] - 0s 22ms/step - loss: 1.2418 - mse: 0.0013 - val_loss: 1.2361 - val_mse: 8.3053e-04\n",
      "Epoch 141/500\n",
      "4/4 [==============================] - 0s 23ms/step - loss: 1.2287 - mse: 0.0013 - val_loss: 1.2249 - val_mse: 9.5076e-04\n",
      "Epoch 142/500\n",
      "4/4 [==============================] - 0s 22ms/step - loss: 1.2165 - mse: 0.0013 - val_loss: 1.2114 - val_mse: 8.8989e-04\n",
      "Epoch 143/500\n",
      "4/4 [==============================] - 0s 24ms/step - loss: 1.2032 - mse: 0.0013 - val_loss: 1.1990 - val_mse: 8.9041e-04\n",
      "Epoch 144/500\n",
      "4/4 [==============================] - 0s 22ms/step - loss: 1.1912 - mse: 0.0014 - val_loss: 1.1877 - val_mse: 9.7277e-04\n",
      "Epoch 145/500\n",
      "4/4 [==============================] - 0s 23ms/step - loss: 1.1794 - mse: 0.0014 - val_loss: 1.1741 - val_mse: 8.8146e-04\n",
      "Epoch 146/500\n",
      "4/4 [==============================] - 0s 24ms/step - loss: 1.1669 - mse: 0.0013 - val_loss: 1.1615 - val_mse: 8.4570e-04\n",
      "Epoch 147/500\n",
      "4/4 [==============================] - 0s 23ms/step - loss: 1.1548 - mse: 0.0014 - val_loss: 1.1509 - val_mse: 9.3952e-04\n",
      "Epoch 148/500\n",
      "4/4 [==============================] - 0s 22ms/step - loss: 1.1435 - mse: 0.0013 - val_loss: 1.1371 - val_mse: 8.0547e-04\n",
      "Epoch 149/500\n",
      "4/4 [==============================] - 0s 22ms/step - loss: 1.1309 - mse: 0.0013 - val_loss: 1.1265 - val_mse: 8.4611e-04\n",
      "Epoch 150/500\n",
      "4/4 [==============================] - 0s 22ms/step - loss: 1.1205 - mse: 0.0014 - val_loss: 1.1142 - val_mse: 8.0572e-04\n",
      "Epoch 151/500\n",
      "4/4 [==============================] - 0s 22ms/step - loss: 1.1086 - mse: 0.0014 - val_loss: 1.1023 - val_mse: 8.0468e-04\n",
      "Epoch 152/500\n",
      "4/4 [==============================] - 0s 22ms/step - loss: 1.0970 - mse: 0.0013 - val_loss: 1.0939 - val_mse: 9.8989e-04\n",
      "Epoch 153/500\n",
      "4/4 [==============================] - 0s 22ms/step - loss: 1.0863 - mse: 0.0014 - val_loss: 1.0794 - val_mse: 7.8947e-04\n",
      "Epoch 154/500\n",
      "4/4 [==============================] - 0s 22ms/step - loss: 1.0740 - mse: 0.0013 - val_loss: 1.0683 - val_mse: 7.8230e-04\n",
      "Epoch 155/500\n",
      "4/4 [==============================] - 0s 22ms/step - loss: 1.0633 - mse: 0.0014 - val_loss: 1.0571 - val_mse: 7.8601e-04\n",
      "Epoch 156/500\n",
      "4/4 [==============================] - 0s 22ms/step - loss: 1.0518 - mse: 0.0013 - val_loss: 1.0459 - val_mse: 7.8306e-04\n",
      "Epoch 157/500\n",
      "4/4 [==============================] - 0s 23ms/step - loss: 1.0407 - mse: 0.0013 - val_loss: 1.0357 - val_mse: 8.1944e-04\n",
      "Epoch 158/500\n",
      "4/4 [==============================] - 0s 23ms/step - loss: 1.0303 - mse: 0.0014 - val_loss: 1.0249 - val_mse: 8.0838e-04\n",
      "Epoch 159/500\n",
      "4/4 [==============================] - 0s 24ms/step - loss: 1.0200 - mse: 0.0014 - val_loss: 1.0136 - val_mse: 7.5341e-04\n",
      "Epoch 160/500\n",
      "4/4 [==============================] - 0s 22ms/step - loss: 1.0092 - mse: 0.0014 - val_loss: 1.0035 - val_mse: 7.6623e-04\n",
      "Epoch 161/500\n",
      "4/4 [==============================] - 0s 23ms/step - loss: 0.9991 - mse: 0.0014 - val_loss: 0.9935 - val_mse: 7.8824e-04\n",
      "Epoch 162/500\n",
      "4/4 [==============================] - 0s 22ms/step - loss: 0.9893 - mse: 0.0014 - val_loss: 0.9826 - val_mse: 7.6528e-04\n",
      "Epoch 163/500\n",
      "4/4 [==============================] - 0s 22ms/step - loss: 0.9788 - mse: 0.0014 - val_loss: 0.9745 - val_mse: 8.5933e-04\n",
      "Epoch 164/500\n",
      "4/4 [==============================] - 0s 22ms/step - loss: 0.9691 - mse: 0.0014 - val_loss: 0.9632 - val_mse: 7.9120e-04\n",
      "Epoch 165/500\n",
      "4/4 [==============================] - 0s 22ms/step - loss: 0.9587 - mse: 0.0014 - val_loss: 0.9526 - val_mse: 7.3858e-04\n",
      "Epoch 166/500\n",
      "4/4 [==============================] - 0s 21ms/step - loss: 0.9486 - mse: 0.0014 - val_loss: 0.9425 - val_mse: 7.2809e-04\n",
      "Epoch 167/500\n",
      "4/4 [==============================] - 0s 22ms/step - loss: 0.9386 - mse: 0.0014 - val_loss: 0.9325 - val_mse: 7.2924e-04\n",
      "Epoch 168/500\n",
      "4/4 [==============================] - 0s 23ms/step - loss: 0.9289 - mse: 0.0014 - val_loss: 0.9229 - val_mse: 7.4701e-04\n",
      "Epoch 169/500\n",
      "4/4 [==============================] - 0s 23ms/step - loss: 0.9193 - mse: 0.0014 - val_loss: 0.9139 - val_mse: 7.7578e-04\n",
      "Epoch 170/500\n",
      "4/4 [==============================] - 0s 23ms/step - loss: 0.9098 - mse: 0.0014 - val_loss: 0.9042 - val_mse: 7.6433e-04\n",
      "Epoch 171/500\n",
      "4/4 [==============================] - 0s 22ms/step - loss: 0.9006 - mse: 0.0014 - val_loss: 0.8950 - val_mse: 7.6450e-04\n",
      "Epoch 172/500\n",
      "4/4 [==============================] - 0s 22ms/step - loss: 0.8911 - mse: 0.0014 - val_loss: 0.8865 - val_mse: 7.5097e-04\n",
      "Epoch 173/500\n",
      "4/4 [==============================] - 0s 23ms/step - loss: 0.8828 - mse: 0.0014 - val_loss: 0.8771 - val_mse: 7.7001e-04\n",
      "Epoch 174/500\n",
      "4/4 [==============================] - 0s 22ms/step - loss: 0.8736 - mse: 0.0014 - val_loss: 0.8680 - val_mse: 7.6482e-04\n",
      "Epoch 175/500\n",
      "4/4 [==============================] - 0s 22ms/step - loss: 0.8640 - mse: 0.0014 - val_loss: 0.8585 - val_mse: 7.3605e-04\n",
      "Epoch 176/500\n",
      "4/4 [==============================] - 0s 22ms/step - loss: 0.8551 - mse: 0.0014 - val_loss: 0.8498 - val_mse: 7.3297e-04\n",
      "Epoch 177/500\n",
      "4/4 [==============================] - 0s 23ms/step - loss: 0.8462 - mse: 0.0014 - val_loss: 0.8408 - val_mse: 7.1739e-04\n",
      "Epoch 178/500\n",
      "4/4 [==============================] - 0s 23ms/step - loss: 0.8376 - mse: 0.0014 - val_loss: 0.8322 - val_mse: 7.1385e-04\n",
      "Epoch 179/500\n",
      "4/4 [==============================] - 0s 23ms/step - loss: 0.8290 - mse: 0.0014 - val_loss: 0.8249 - val_mse: 7.9170e-04\n",
      "Epoch 180/500\n",
      "4/4 [==============================] - 0s 22ms/step - loss: 0.8211 - mse: 0.0014 - val_loss: 0.8156 - val_mse: 7.3795e-04\n",
      "Epoch 181/500\n",
      "4/4 [==============================] - 0s 22ms/step - loss: 0.8126 - mse: 0.0015 - val_loss: 0.8062 - val_mse: 6.8896e-04\n",
      "Epoch 182/500\n",
      "4/4 [==============================] - 0s 23ms/step - loss: 0.8039 - mse: 0.0014 - val_loss: 0.7985 - val_mse: 6.9655e-04\n",
      "Epoch 183/500\n",
      "4/4 [==============================] - 0s 24ms/step - loss: 0.7962 - mse: 0.0015 - val_loss: 0.7896 - val_mse: 6.7059e-04\n",
      "Epoch 184/500\n",
      "4/4 [==============================] - 0s 23ms/step - loss: 0.7877 - mse: 0.0014 - val_loss: 0.7831 - val_mse: 7.5574e-04\n",
      "Epoch 185/500\n",
      "4/4 [==============================] - 0s 22ms/step - loss: 0.7800 - mse: 0.0015 - val_loss: 0.7732 - val_mse: 6.5921e-04\n",
      "Epoch 186/500\n",
      "4/4 [==============================] - 0s 23ms/step - loss: 0.7715 - mse: 0.0014 - val_loss: 0.7652 - val_mse: 6.5106e-04\n",
      "Epoch 187/500\n",
      "4/4 [==============================] - 0s 22ms/step - loss: 0.7635 - mse: 0.0015 - val_loss: 0.7576 - val_mse: 6.4833e-04\n",
      "Epoch 188/500\n",
      "4/4 [==============================] - 0s 22ms/step - loss: 0.7557 - mse: 0.0014 - val_loss: 0.7496 - val_mse: 6.4874e-04\n",
      "Epoch 189/500\n",
      "4/4 [==============================] - 0s 23ms/step - loss: 0.7479 - mse: 0.0014 - val_loss: 0.7432 - val_mse: 7.2195e-04\n",
      "Epoch 190/500\n",
      "4/4 [==============================] - 0s 23ms/step - loss: 0.7406 - mse: 0.0015 - val_loss: 0.7351 - val_mse: 7.0179e-04\n",
      "Epoch 191/500\n",
      "4/4 [==============================] - 0s 22ms/step - loss: 0.7329 - mse: 0.0015 - val_loss: 0.7270 - val_mse: 6.6754e-04\n",
      "Epoch 192/500\n",
      "4/4 [==============================] - 0s 22ms/step - loss: 0.7252 - mse: 0.0015 - val_loss: 0.7197 - val_mse: 6.6815e-04\n",
      "Epoch 193/500\n",
      "4/4 [==============================] - 0s 22ms/step - loss: 0.7177 - mse: 0.0015 - val_loss: 0.7128 - val_mse: 7.0001e-04\n",
      "Epoch 194/500\n",
      "4/4 [==============================] - 0s 23ms/step - loss: 0.7107 - mse: 0.0015 - val_loss: 0.7053 - val_mse: 6.6373e-04\n",
      "Epoch 195/500\n",
      "4/4 [==============================] - 0s 23ms/step - loss: 0.7037 - mse: 0.0015 - val_loss: 0.6978 - val_mse: 6.6229e-04\n",
      "Epoch 196/500\n",
      "4/4 [==============================] - 0s 22ms/step - loss: 0.6964 - mse: 0.0015 - val_loss: 0.6911 - val_mse: 6.8411e-04\n",
      "Epoch 197/500\n",
      "4/4 [==============================] - 0s 22ms/step - loss: 0.6893 - mse: 0.0015 - val_loss: 0.6847 - val_mse: 7.1305e-04\n",
      "Epoch 198/500\n",
      "4/4 [==============================] - 0s 22ms/step - loss: 0.6823 - mse: 0.0015 - val_loss: 0.6770 - val_mse: 6.7066e-04\n",
      "Epoch 199/500\n",
      "4/4 [==============================] - 0s 22ms/step - loss: 0.6756 - mse: 0.0015 - val_loss: 0.6700 - val_mse: 6.5778e-04\n",
      "Epoch 200/500\n",
      "4/4 [==============================] - 0s 22ms/step - loss: 0.6688 - mse: 0.0015 - val_loss: 0.6634 - val_mse: 6.7515e-04\n",
      "Epoch 201/500\n",
      "4/4 [==============================] - 0s 22ms/step - loss: 0.6617 - mse: 0.0015 - val_loss: 0.6567 - val_mse: 6.7591e-04\n",
      "Epoch 202/500\n",
      "4/4 [==============================] - 0s 22ms/step - loss: 0.6550 - mse: 0.0015 - val_loss: 0.6501 - val_mse: 6.7967e-04\n",
      "Epoch 203/500\n",
      "4/4 [==============================] - 0s 23ms/step - loss: 0.6484 - mse: 0.0015 - val_loss: 0.6441 - val_mse: 7.1949e-04\n",
      "Epoch 204/500\n",
      "4/4 [==============================] - 0s 23ms/step - loss: 0.6419 - mse: 0.0015 - val_loss: 0.6373 - val_mse: 6.9361e-04\n",
      "Epoch 205/500\n",
      "4/4 [==============================] - 0s 21ms/step - loss: 0.6355 - mse: 0.0015 - val_loss: 0.6306 - val_mse: 6.8337e-04\n",
      "Epoch 206/500\n",
      "4/4 [==============================] - 0s 22ms/step - loss: 0.6291 - mse: 0.0015 - val_loss: 0.6245 - val_mse: 6.9484e-04\n",
      "Epoch 207/500\n",
      "4/4 [==============================] - 0s 21ms/step - loss: 0.6227 - mse: 0.0015 - val_loss: 0.6186 - val_mse: 7.1965e-04\n",
      "Epoch 208/500\n",
      "4/4 [==============================] - 0s 21ms/step - loss: 0.6164 - mse: 0.0015 - val_loss: 0.6122 - val_mse: 7.0626e-04\n",
      "Epoch 209/500\n",
      "4/4 [==============================] - 0s 22ms/step - loss: 0.6106 - mse: 0.0015 - val_loss: 0.6059 - val_mse: 7.0846e-04\n",
      "Epoch 210/500\n",
      "4/4 [==============================] - 0s 23ms/step - loss: 0.6042 - mse: 0.0015 - val_loss: 0.5996 - val_mse: 6.8030e-04\n",
      "Epoch 211/500\n",
      "4/4 [==============================] - 0s 22ms/step - loss: 0.5981 - mse: 0.0015 - val_loss: 0.5940 - val_mse: 7.2374e-04\n",
      "Epoch 212/500\n",
      "4/4 [==============================] - 0s 22ms/step - loss: 0.5921 - mse: 0.0015 - val_loss: 0.5886 - val_mse: 7.4590e-04\n",
      "Epoch 213/500\n",
      "4/4 [==============================] - 0s 23ms/step - loss: 0.5863 - mse: 0.0015 - val_loss: 0.5818 - val_mse: 6.7413e-04\n",
      "Epoch 214/500\n",
      "4/4 [==============================] - 0s 22ms/step - loss: 0.5806 - mse: 0.0015 - val_loss: 0.5759 - val_mse: 6.9165e-04\n",
      "Epoch 215/500\n",
      "4/4 [==============================] - 0s 21ms/step - loss: 0.5745 - mse: 0.0015 - val_loss: 0.5709 - val_mse: 7.3242e-04\n",
      "Epoch 216/500\n",
      "4/4 [==============================] - 0s 22ms/step - loss: 0.5687 - mse: 0.0015 - val_loss: 0.5644 - val_mse: 6.9735e-04\n",
      "Epoch 217/500\n",
      "4/4 [==============================] - 0s 22ms/step - loss: 0.5629 - mse: 0.0015 - val_loss: 0.5585 - val_mse: 6.8414e-04\n",
      "Epoch 218/500\n",
      "4/4 [==============================] - 0s 22ms/step - loss: 0.5573 - mse: 0.0015 - val_loss: 0.5532 - val_mse: 7.1014e-04\n",
      "Epoch 219/500\n",
      "4/4 [==============================] - 0s 23ms/step - loss: 0.5519 - mse: 0.0015 - val_loss: 0.5487 - val_mse: 7.4932e-04\n",
      "Epoch 220/500\n",
      "4/4 [==============================] - 0s 23ms/step - loss: 0.5463 - mse: 0.0015 - val_loss: 0.5418 - val_mse: 6.7660e-04\n",
      "Epoch 221/500\n",
      "4/4 [==============================] - 0s 22ms/step - loss: 0.5410 - mse: 0.0015 - val_loss: 0.5369 - val_mse: 7.0585e-04\n",
      "Epoch 222/500\n",
      "4/4 [==============================] - 0s 23ms/step - loss: 0.5354 - mse: 0.0015 - val_loss: 0.5317 - val_mse: 7.1607e-04\n",
      "Epoch 223/500\n",
      "4/4 [==============================] - 0s 23ms/step - loss: 0.5302 - mse: 0.0015 - val_loss: 0.5263 - val_mse: 7.1441e-04\n",
      "Epoch 224/500\n",
      "4/4 [==============================] - 0s 23ms/step - loss: 0.5249 - mse: 0.0015 - val_loss: 0.5208 - val_mse: 6.8898e-04\n",
      "Epoch 225/500\n",
      "4/4 [==============================] - 0s 22ms/step - loss: 0.5198 - mse: 0.0015 - val_loss: 0.5156 - val_mse: 6.9253e-04\n",
      "Epoch 226/500\n",
      "4/4 [==============================] - 0s 22ms/step - loss: 0.5148 - mse: 0.0015 - val_loss: 0.5114 - val_mse: 7.4453e-04\n",
      "Epoch 227/500\n",
      "4/4 [==============================] - 0s 22ms/step - loss: 0.5094 - mse: 0.0015 - val_loss: 0.5052 - val_mse: 6.7922e-04\n",
      "Epoch 228/500\n",
      "4/4 [==============================] - 0s 22ms/step - loss: 0.5047 - mse: 0.0015 - val_loss: 0.5001 - val_mse: 6.9352e-04\n",
      "Epoch 229/500\n",
      "4/4 [==============================] - 0s 22ms/step - loss: 0.4993 - mse: 0.0015 - val_loss: 0.4963 - val_mse: 7.4015e-04\n",
      "Epoch 230/500\n",
      "4/4 [==============================] - 0s 22ms/step - loss: 0.4944 - mse: 0.0015 - val_loss: 0.4904 - val_mse: 6.9623e-04\n",
      "Epoch 231/500\n",
      "4/4 [==============================] - 0s 23ms/step - loss: 0.4895 - mse: 0.0015 - val_loss: 0.4852 - val_mse: 6.7747e-04\n",
      "Epoch 232/500\n",
      "4/4 [==============================] - 0s 22ms/step - loss: 0.4844 - mse: 0.0015 - val_loss: 0.4808 - val_mse: 6.9777e-04\n",
      "Epoch 233/500\n",
      "4/4 [==============================] - 0s 22ms/step - loss: 0.4795 - mse: 0.0015 - val_loss: 0.4759 - val_mse: 7.0808e-04\n",
      "Epoch 234/500\n",
      "4/4 [==============================] - 0s 22ms/step - loss: 0.4749 - mse: 0.0015 - val_loss: 0.4708 - val_mse: 6.8298e-04\n",
      "Epoch 235/500\n",
      "4/4 [==============================] - 0s 23ms/step - loss: 0.4701 - mse: 0.0015 - val_loss: 0.4659 - val_mse: 6.6933e-04\n",
      "Epoch 236/500\n",
      "4/4 [==============================] - 0s 22ms/step - loss: 0.4655 - mse: 0.0015 - val_loss: 0.4624 - val_mse: 7.3164e-04\n",
      "Epoch 237/500\n",
      "4/4 [==============================] - 0s 22ms/step - loss: 0.4612 - mse: 0.0015 - val_loss: 0.4576 - val_mse: 7.2304e-04\n",
      "Epoch 238/500\n",
      "4/4 [==============================] - 0s 23ms/step - loss: 0.4564 - mse: 0.0015 - val_loss: 0.4521 - val_mse: 6.6116e-04\n",
      "Epoch 239/500\n",
      "4/4 [==============================] - 0s 22ms/step - loss: 0.4522 - mse: 0.0015 - val_loss: 0.4476 - val_mse: 6.6384e-04\n",
      "Epoch 240/500\n",
      "4/4 [==============================] - 0s 22ms/step - loss: 0.4481 - mse: 0.0016 - val_loss: 0.4449 - val_mse: 7.5777e-04\n",
      "Epoch 241/500\n",
      "4/4 [==============================] - 0s 23ms/step - loss: 0.4434 - mse: 0.0015 - val_loss: 0.4390 - val_mse: 6.8317e-04\n",
      "Epoch 242/500\n",
      "4/4 [==============================] - 0s 22ms/step - loss: 0.4391 - mse: 0.0015 - val_loss: 0.4346 - val_mse: 6.6176e-04\n",
      "Epoch 243/500\n",
      "4/4 [==============================] - 0s 22ms/step - loss: 0.4345 - mse: 0.0015 - val_loss: 0.4307 - val_mse: 7.1359e-04\n",
      "Epoch 244/500\n",
      "4/4 [==============================] - 0s 22ms/step - loss: 0.4303 - mse: 0.0015 - val_loss: 0.4260 - val_mse: 6.8631e-04\n",
      "Epoch 245/500\n"
     ]
    },
    {
     "name": "stdout",
     "output_type": "stream",
     "text": [
      "4/4 [==============================] - 0s 22ms/step - loss: 0.4259 - mse: 0.0015 - val_loss: 0.4215 - val_mse: 6.6328e-04\n",
      "Epoch 246/500\n",
      "4/4 [==============================] - 0s 22ms/step - loss: 0.4217 - mse: 0.0015 - val_loss: 0.4196 - val_mse: 7.8656e-04\n",
      "Epoch 247/500\n",
      "4/4 [==============================] - 0s 23ms/step - loss: 0.4182 - mse: 0.0015 - val_loss: 0.4150 - val_mse: 6.8894e-04\n",
      "Epoch 248/500\n",
      "4/4 [==============================] - 0s 22ms/step - loss: 0.4152 - mse: 0.0016 - val_loss: 0.4103 - val_mse: 7.2904e-04\n",
      "Epoch 249/500\n",
      "4/4 [==============================] - 0s 22ms/step - loss: 0.4105 - mse: 0.0015 - val_loss: 0.4056 - val_mse: 6.8837e-04\n",
      "Epoch 250/500\n",
      "4/4 [==============================] - 0s 22ms/step - loss: 0.4058 - mse: 0.0015 - val_loss: 0.4014 - val_mse: 6.5290e-04\n",
      "Epoch 251/500\n",
      "4/4 [==============================] - 0s 22ms/step - loss: 0.4022 - mse: 0.0016 - val_loss: 0.3989 - val_mse: 7.5255e-04\n",
      "Epoch 252/500\n",
      "4/4 [==============================] - 0s 23ms/step - loss: 0.3982 - mse: 0.0016 - val_loss: 0.3932 - val_mse: 6.5948e-04\n",
      "Epoch 253/500\n",
      "4/4 [==============================] - 0s 22ms/step - loss: 0.3940 - mse: 0.0015 - val_loss: 0.3894 - val_mse: 6.4428e-04\n",
      "Epoch 254/500\n",
      "4/4 [==============================] - 0s 24ms/step - loss: 0.3905 - mse: 0.0016 - val_loss: 0.3857 - val_mse: 6.7679e-04\n",
      "Epoch 255/500\n",
      "4/4 [==============================] - 0s 22ms/step - loss: 0.3863 - mse: 0.0015 - val_loss: 0.3823 - val_mse: 6.9416e-04\n",
      "Epoch 256/500\n",
      "4/4 [==============================] - 0s 21ms/step - loss: 0.3826 - mse: 0.0015 - val_loss: 0.3779 - val_mse: 6.4010e-04\n",
      "Epoch 257/500\n",
      "4/4 [==============================] - 0s 22ms/step - loss: 0.3788 - mse: 0.0016 - val_loss: 0.3762 - val_mse: 7.5319e-04\n",
      "Epoch 258/500\n",
      "4/4 [==============================] - 0s 22ms/step - loss: 0.3755 - mse: 0.0015 - val_loss: 0.3710 - val_mse: 6.4043e-04\n",
      "Epoch 259/500\n",
      "4/4 [==============================] - 0s 22ms/step - loss: 0.3720 - mse: 0.0016 - val_loss: 0.3675 - val_mse: 6.9219e-04\n",
      "Epoch 260/500\n",
      "4/4 [==============================] - 0s 22ms/step - loss: 0.3680 - mse: 0.0015 - val_loss: 0.3632 - val_mse: 6.4286e-04\n",
      "Epoch 261/500\n",
      "4/4 [==============================] - 0s 22ms/step - loss: 0.3643 - mse: 0.0016 - val_loss: 0.3603 - val_mse: 6.8387e-04\n",
      "Epoch 262/500\n",
      "4/4 [==============================] - 0s 23ms/step - loss: 0.3608 - mse: 0.0016 - val_loss: 0.3561 - val_mse: 6.4114e-04\n",
      "Epoch 263/500\n",
      "4/4 [==============================] - 0s 22ms/step - loss: 0.3572 - mse: 0.0015 - val_loss: 0.3529 - val_mse: 6.5970e-04\n",
      "Epoch 264/500\n",
      "4/4 [==============================] - 0s 23ms/step - loss: 0.3538 - mse: 0.0015 - val_loss: 0.3492 - val_mse: 6.4003e-04\n",
      "Epoch 265/500\n",
      "4/4 [==============================] - 0s 22ms/step - loss: 0.3504 - mse: 0.0016 - val_loss: 0.3464 - val_mse: 6.8137e-04\n",
      "Epoch 266/500\n",
      "4/4 [==============================] - 0s 23ms/step - loss: 0.3472 - mse: 0.0016 - val_loss: 0.3431 - val_mse: 6.8010e-04\n",
      "Epoch 267/500\n",
      "4/4 [==============================] - 0s 21ms/step - loss: 0.3439 - mse: 0.0016 - val_loss: 0.3393 - val_mse: 6.4707e-04\n",
      "Epoch 268/500\n",
      "4/4 [==============================] - 0s 21ms/step - loss: 0.3405 - mse: 0.0016 - val_loss: 0.3369 - val_mse: 7.0508e-04\n",
      "Epoch 269/500\n",
      "4/4 [==============================] - 0s 22ms/step - loss: 0.3377 - mse: 0.0016 - val_loss: 0.3338 - val_mse: 6.9062e-04\n",
      "Epoch 270/500\n",
      "4/4 [==============================] - 0s 22ms/step - loss: 0.3344 - mse: 0.0016 - val_loss: 0.3299 - val_mse: 6.4933e-04\n",
      "Epoch 271/500\n",
      "4/4 [==============================] - 0s 22ms/step - loss: 0.3310 - mse: 0.0015 - val_loss: 0.3270 - val_mse: 6.7790e-04\n",
      "Epoch 272/500\n",
      "4/4 [==============================] - 0s 22ms/step - loss: 0.3278 - mse: 0.0016 - val_loss: 0.3234 - val_mse: 6.4595e-04\n",
      "Epoch 273/500\n",
      "4/4 [==============================] - 0s 22ms/step - loss: 0.3247 - mse: 0.0016 - val_loss: 0.3205 - val_mse: 6.7081e-04\n",
      "Epoch 274/500\n",
      "4/4 [==============================] - 0s 22ms/step - loss: 0.3217 - mse: 0.0016 - val_loss: 0.3177 - val_mse: 6.7831e-04\n",
      "Epoch 275/500\n",
      "4/4 [==============================] - 0s 22ms/step - loss: 0.3187 - mse: 0.0016 - val_loss: 0.3142 - val_mse: 6.5760e-04\n",
      "Epoch 276/500\n",
      "4/4 [==============================] - 0s 22ms/step - loss: 0.3156 - mse: 0.0015 - val_loss: 0.3115 - val_mse: 6.4943e-04\n",
      "Epoch 277/500\n",
      "4/4 [==============================] - 0s 22ms/step - loss: 0.3127 - mse: 0.0016 - val_loss: 0.3083 - val_mse: 6.5873e-04\n",
      "Epoch 278/500\n",
      "4/4 [==============================] - 0s 23ms/step - loss: 0.3097 - mse: 0.0016 - val_loss: 0.3057 - val_mse: 6.7301e-04\n",
      "Epoch 279/500\n",
      "4/4 [==============================] - 0s 22ms/step - loss: 0.3067 - mse: 0.0016 - val_loss: 0.3029 - val_mse: 6.7937e-04\n",
      "Epoch 280/500\n",
      "4/4 [==============================] - 0s 22ms/step - loss: 0.3039 - mse: 0.0016 - val_loss: 0.3004 - val_mse: 7.0255e-04\n",
      "Epoch 281/500\n",
      "4/4 [==============================] - 0s 22ms/step - loss: 0.3014 - mse: 0.0016 - val_loss: 0.2977 - val_mse: 6.6041e-04\n",
      "Epoch 282/500\n",
      "4/4 [==============================] - 0s 25ms/step - loss: 0.2989 - mse: 0.0016 - val_loss: 0.2955 - val_mse: 7.3100e-04\n",
      "Epoch 283/500\n",
      "4/4 [==============================] - 0s 22ms/step - loss: 0.2960 - mse: 0.0016 - val_loss: 0.2917 - val_mse: 6.5942e-04\n",
      "Epoch 284/500\n",
      "4/4 [==============================] - 0s 22ms/step - loss: 0.2929 - mse: 0.0016 - val_loss: 0.2886 - val_mse: 6.7423e-04\n",
      "Epoch 285/500\n",
      "4/4 [==============================] - 0s 22ms/step - loss: 0.2901 - mse: 0.0016 - val_loss: 0.2864 - val_mse: 6.9124e-04\n",
      "Epoch 286/500\n",
      "4/4 [==============================] - 0s 21ms/step - loss: 0.2874 - mse: 0.0016 - val_loss: 0.2836 - val_mse: 6.7810e-04\n",
      "Epoch 287/500\n",
      "4/4 [==============================] - 0s 22ms/step - loss: 0.2847 - mse: 0.0016 - val_loss: 0.2809 - val_mse: 6.7679e-04\n",
      "Epoch 288/500\n",
      "4/4 [==============================] - 0s 22ms/step - loss: 0.2821 - mse: 0.0016 - val_loss: 0.2785 - val_mse: 7.0615e-04\n",
      "Epoch 289/500\n",
      "4/4 [==============================] - 0s 23ms/step - loss: 0.2795 - mse: 0.0016 - val_loss: 0.2757 - val_mse: 6.6987e-04\n",
      "Epoch 290/500\n",
      "4/4 [==============================] - 0s 22ms/step - loss: 0.2770 - mse: 0.0016 - val_loss: 0.2732 - val_mse: 6.6565e-04\n",
      "Epoch 291/500\n",
      "4/4 [==============================] - 0s 22ms/step - loss: 0.2744 - mse: 0.0016 - val_loss: 0.2716 - val_mse: 7.3014e-04\n",
      "Epoch 292/500\n",
      "4/4 [==============================] - 0s 23ms/step - loss: 0.2722 - mse: 0.0016 - val_loss: 0.2686 - val_mse: 6.6367e-04\n",
      "Epoch 293/500\n",
      "4/4 [==============================] - 0s 22ms/step - loss: 0.2696 - mse: 0.0016 - val_loss: 0.2664 - val_mse: 7.1270e-04\n",
      "Epoch 294/500\n",
      "4/4 [==============================] - 0s 23ms/step - loss: 0.2673 - mse: 0.0016 - val_loss: 0.2635 - val_mse: 6.9025e-04\n",
      "Epoch 295/500\n",
      "4/4 [==============================] - 0s 22ms/step - loss: 0.2647 - mse: 0.0016 - val_loss: 0.2615 - val_mse: 6.7137e-04\n",
      "Epoch 296/500\n",
      "4/4 [==============================] - 0s 22ms/step - loss: 0.2625 - mse: 0.0016 - val_loss: 0.2594 - val_mse: 7.2558e-04\n",
      "Epoch 297/500\n",
      "4/4 [==============================] - 0s 22ms/step - loss: 0.2600 - mse: 0.0016 - val_loss: 0.2564 - val_mse: 6.9586e-04\n",
      "Epoch 298/500\n",
      "4/4 [==============================] - 0s 22ms/step - loss: 0.2577 - mse: 0.0016 - val_loss: 0.2540 - val_mse: 6.7481e-04\n",
      "Epoch 299/500\n",
      "4/4 [==============================] - 0s 22ms/step - loss: 0.2552 - mse: 0.0016 - val_loss: 0.2528 - val_mse: 7.4806e-04\n",
      "Epoch 300/500\n",
      "4/4 [==============================] - 0s 22ms/step - loss: 0.2533 - mse: 0.0016 - val_loss: 0.2499 - val_mse: 6.7503e-04\n",
      "Epoch 301/500\n",
      "4/4 [==============================] - 0s 23ms/step - loss: 0.2511 - mse: 0.0016 - val_loss: 0.2474 - val_mse: 7.1898e-04\n",
      "Epoch 302/500\n",
      "4/4 [==============================] - 0s 22ms/step - loss: 0.2487 - mse: 0.0016 - val_loss: 0.2449 - val_mse: 6.9251e-04\n",
      "Epoch 303/500\n",
      "4/4 [==============================] - 0s 23ms/step - loss: 0.2465 - mse: 0.0016 - val_loss: 0.2428 - val_mse: 6.9032e-04\n",
      "Epoch 304/500\n",
      "4/4 [==============================] - 0s 22ms/step - loss: 0.2442 - mse: 0.0016 - val_loss: 0.2412 - val_mse: 7.3701e-04\n",
      "Epoch 305/500\n",
      "4/4 [==============================] - 0s 22ms/step - loss: 0.2422 - mse: 0.0016 - val_loss: 0.2385 - val_mse: 7.0017e-04\n",
      "Epoch 306/500\n",
      "4/4 [==============================] - 0s 22ms/step - loss: 0.2399 - mse: 0.0016 - val_loss: 0.2362 - val_mse: 6.9098e-04\n",
      "Epoch 307/500\n",
      "4/4 [==============================] - 0s 22ms/step - loss: 0.2378 - mse: 0.0016 - val_loss: 0.2349 - val_mse: 7.4015e-04\n",
      "Epoch 308/500\n",
      "4/4 [==============================] - 0s 25ms/step - loss: 0.2357 - mse: 0.0016 - val_loss: 0.2323 - val_mse: 6.8310e-04\n",
      "Epoch 309/500\n",
      "4/4 [==============================] - 0s 22ms/step - loss: 0.2336 - mse: 0.0016 - val_loss: 0.2303 - val_mse: 7.2011e-04\n",
      "Epoch 310/500\n",
      "4/4 [==============================] - 0s 22ms/step - loss: 0.2315 - mse: 0.0016 - val_loss: 0.2280 - val_mse: 7.0656e-04\n",
      "Epoch 311/500\n",
      "4/4 [==============================] - 0s 24ms/step - loss: 0.2294 - mse: 0.0016 - val_loss: 0.2259 - val_mse: 7.0261e-04\n",
      "Epoch 312/500\n",
      "4/4 [==============================] - 0s 22ms/step - loss: 0.2274 - mse: 0.0016 - val_loss: 0.2238 - val_mse: 6.9807e-04\n",
      "Epoch 313/500\n",
      "4/4 [==============================] - 0s 22ms/step - loss: 0.2254 - mse: 0.0016 - val_loss: 0.2221 - val_mse: 7.1262e-04\n",
      "Epoch 314/500\n",
      "4/4 [==============================] - 0s 23ms/step - loss: 0.2235 - mse: 0.0016 - val_loss: 0.2199 - val_mse: 6.9342e-04\n",
      "Epoch 315/500\n",
      "4/4 [==============================] - 0s 21ms/step - loss: 0.2216 - mse: 0.0016 - val_loss: 0.2184 - val_mse: 6.8531e-04\n",
      "Epoch 316/500\n",
      "4/4 [==============================] - 0s 22ms/step - loss: 0.2198 - mse: 0.0016 - val_loss: 0.2163 - val_mse: 7.0176e-04\n",
      "Epoch 317/500\n",
      "4/4 [==============================] - 0s 22ms/step - loss: 0.2176 - mse: 0.0016 - val_loss: 0.2143 - val_mse: 6.9741e-04\n",
      "Epoch 318/500\n",
      "4/4 [==============================] - 0s 22ms/step - loss: 0.2160 - mse: 0.0016 - val_loss: 0.2126 - val_mse: 6.8348e-04\n",
      "Epoch 319/500\n",
      "4/4 [==============================] - 0s 22ms/step - loss: 0.2141 - mse: 0.0016 - val_loss: 0.2106 - val_mse: 7.0181e-04\n",
      "Epoch 320/500\n",
      "4/4 [==============================] - 0s 22ms/step - loss: 0.2121 - mse: 0.0016 - val_loss: 0.2088 - val_mse: 6.8928e-04\n",
      "Epoch 321/500\n",
      "4/4 [==============================] - 0s 22ms/step - loss: 0.2103 - mse: 0.0016 - val_loss: 0.2073 - val_mse: 7.1224e-04\n",
      "Epoch 322/500\n",
      "4/4 [==============================] - 0s 22ms/step - loss: 0.2085 - mse: 0.0016 - val_loss: 0.2053 - val_mse: 6.9512e-04\n",
      "Epoch 323/500\n",
      "4/4 [==============================] - 0s 22ms/step - loss: 0.2066 - mse: 0.0016 - val_loss: 0.2035 - val_mse: 6.9963e-04\n",
      "Epoch 324/500\n",
      "4/4 [==============================] - 0s 23ms/step - loss: 0.2049 - mse: 0.0016 - val_loss: 0.2017 - val_mse: 6.8278e-04\n",
      "Epoch 325/500\n",
      "4/4 [==============================] - 0s 24ms/step - loss: 0.2033 - mse: 0.0016 - val_loss: 0.2000 - val_mse: 6.9122e-04\n",
      "Epoch 326/500\n",
      "4/4 [==============================] - 0s 23ms/step - loss: 0.2015 - mse: 0.0016 - val_loss: 0.1984 - val_mse: 7.0648e-04\n",
      "Epoch 327/500\n",
      "4/4 [==============================] - 0s 23ms/step - loss: 0.1999 - mse: 0.0016 - val_loss: 0.1967 - val_mse: 6.8497e-04\n",
      "Epoch 328/500\n",
      "4/4 [==============================] - 0s 23ms/step - loss: 0.1981 - mse: 0.0016 - val_loss: 0.1951 - val_mse: 7.1262e-04\n",
      "Epoch 329/500\n",
      "4/4 [==============================] - 0s 22ms/step - loss: 0.1963 - mse: 0.0016 - val_loss: 0.1933 - val_mse: 6.9772e-04\n",
      "Epoch 330/500\n",
      "4/4 [==============================] - 0s 26ms/step - loss: 0.1947 - mse: 0.0016 - val_loss: 0.1916 - val_mse: 6.8001e-04\n",
      "Epoch 331/500\n",
      "4/4 [==============================] - 0s 29ms/step - loss: 0.1933 - mse: 0.0016 - val_loss: 0.1900 - val_mse: 7.0645e-04\n",
      "Epoch 332/500\n",
      "4/4 [==============================] - 0s 23ms/step - loss: 0.1915 - mse: 0.0016 - val_loss: 0.1883 - val_mse: 6.9438e-04\n",
      "Epoch 333/500\n",
      "4/4 [==============================] - 0s 22ms/step - loss: 0.1898 - mse: 0.0016 - val_loss: 0.1866 - val_mse: 6.9543e-04\n",
      "Epoch 334/500\n",
      "4/4 [==============================] - 0s 21ms/step - loss: 0.1882 - mse: 0.0016 - val_loss: 0.1854 - val_mse: 7.2146e-04\n",
      "Epoch 335/500\n",
      "4/4 [==============================] - 0s 22ms/step - loss: 0.1867 - mse: 0.0016 - val_loss: 0.1842 - val_mse: 6.8106e-04\n",
      "Epoch 336/500\n",
      "4/4 [==============================] - 0s 23ms/step - loss: 0.1855 - mse: 0.0016 - val_loss: 0.1830 - val_mse: 7.6674e-04\n",
      "Epoch 337/500\n",
      "4/4 [==============================] - 0s 22ms/step - loss: 0.1839 - mse: 0.0016 - val_loss: 0.1811 - val_mse: 6.8410e-04\n",
      "Epoch 338/500\n",
      "4/4 [==============================] - 0s 22ms/step - loss: 0.1823 - mse: 0.0016 - val_loss: 0.1806 - val_mse: 7.8914e-04\n",
      "Epoch 339/500\n",
      "4/4 [==============================] - 0s 21ms/step - loss: 0.1810 - mse: 0.0016 - val_loss: 0.1775 - val_mse: 6.8504e-04\n",
      "Epoch 340/500\n",
      "4/4 [==============================] - 0s 27ms/step - loss: 0.1794 - mse: 0.0016 - val_loss: 0.1760 - val_mse: 6.8286e-04\n",
      "Epoch 341/500\n",
      "4/4 [==============================] - 0s 22ms/step - loss: 0.1780 - mse: 0.0016 - val_loss: 0.1750 - val_mse: 7.3555e-04\n",
      "Epoch 342/500\n",
      "4/4 [==============================] - 0s 27ms/step - loss: 0.1764 - mse: 0.0016 - val_loss: 0.1732 - val_mse: 6.9183e-04\n",
      "Epoch 343/500\n",
      "4/4 [==============================] - 0s 23ms/step - loss: 0.1748 - mse: 0.0016 - val_loss: 0.1720 - val_mse: 7.1309e-04\n",
      "Epoch 344/500\n",
      "4/4 [==============================] - 0s 23ms/step - loss: 0.1732 - mse: 0.0016 - val_loss: 0.1705 - val_mse: 7.0240e-04\n",
      "Epoch 345/500\n",
      "4/4 [==============================] - 0s 22ms/step - loss: 0.1718 - mse: 0.0016 - val_loss: 0.1691 - val_mse: 6.9722e-04\n",
      "Epoch 346/500\n",
      "4/4 [==============================] - 0s 23ms/step - loss: 0.1704 - mse: 0.0016 - val_loss: 0.1675 - val_mse: 6.7868e-04\n",
      "Epoch 347/500\n",
      "4/4 [==============================] - 0s 22ms/step - loss: 0.1690 - mse: 0.0016 - val_loss: 0.1664 - val_mse: 7.0183e-04\n",
      "Epoch 348/500\n",
      "4/4 [==============================] - 0s 22ms/step - loss: 0.1677 - mse: 0.0016 - val_loss: 0.1650 - val_mse: 7.1623e-04\n",
      "Epoch 349/500\n",
      "4/4 [==============================] - 0s 22ms/step - loss: 0.1664 - mse: 0.0016 - val_loss: 0.1635 - val_mse: 6.6196e-04\n",
      "Epoch 350/500\n",
      "4/4 [==============================] - 0s 22ms/step - loss: 0.1650 - mse: 0.0016 - val_loss: 0.1630 - val_mse: 7.4707e-04\n",
      "Epoch 351/500\n",
      "4/4 [==============================] - 0s 22ms/step - loss: 0.1638 - mse: 0.0016 - val_loss: 0.1610 - val_mse: 6.7042e-04\n",
      "Epoch 352/500\n",
      "4/4 [==============================] - 0s 21ms/step - loss: 0.1623 - mse: 0.0016 - val_loss: 0.1599 - val_mse: 7.2661e-04\n",
      "Epoch 353/500\n",
      "4/4 [==============================] - 0s 22ms/step - loss: 0.1610 - mse: 0.0016 - val_loss: 0.1584 - val_mse: 6.9931e-04\n",
      "Epoch 354/500\n",
      "4/4 [==============================] - 0s 22ms/step - loss: 0.1596 - mse: 0.0016 - val_loss: 0.1570 - val_mse: 6.8113e-04\n",
      "Epoch 355/500\n",
      "4/4 [==============================] - 0s 23ms/step - loss: 0.1582 - mse: 0.0016 - val_loss: 0.1560 - val_mse: 7.1764e-04\n",
      "Epoch 356/500\n",
      "4/4 [==============================] - 0s 24ms/step - loss: 0.1570 - mse: 0.0016 - val_loss: 0.1546 - val_mse: 6.5956e-04\n",
      "Epoch 357/500\n",
      "4/4 [==============================] - 0s 22ms/step - loss: 0.1559 - mse: 0.0016 - val_loss: 0.1538 - val_mse: 7.2920e-04\n",
      "Epoch 358/500\n",
      "4/4 [==============================] - 0s 22ms/step - loss: 0.1550 - mse: 0.0016 - val_loss: 0.1521 - val_mse: 6.8731e-04\n",
      "Epoch 359/500\n",
      "4/4 [==============================] - 0s 22ms/step - loss: 0.1536 - mse: 0.0016 - val_loss: 0.1509 - val_mse: 6.6666e-04\n",
      "Epoch 360/500\n",
      "4/4 [==============================] - 0s 21ms/step - loss: 0.1521 - mse: 0.0016 - val_loss: 0.1500 - val_mse: 7.2102e-04\n",
      "Epoch 361/500\n",
      "4/4 [==============================] - 0s 22ms/step - loss: 0.1511 - mse: 0.0016 - val_loss: 0.1485 - val_mse: 6.9450e-04\n",
      "Epoch 362/500\n",
      "4/4 [==============================] - 0s 22ms/step - loss: 0.1497 - mse: 0.0016 - val_loss: 0.1474 - val_mse: 6.8551e-04\n",
      "Epoch 363/500\n",
      "4/4 [==============================] - 0s 21ms/step - loss: 0.1485 - mse: 0.0016 - val_loss: 0.1463 - val_mse: 7.0020e-04\n",
      "Epoch 364/500\n",
      "4/4 [==============================] - 0s 21ms/step - loss: 0.1473 - mse: 0.0016 - val_loss: 0.1450 - val_mse: 6.9080e-04\n",
      "Epoch 365/500\n"
     ]
    },
    {
     "name": "stdout",
     "output_type": "stream",
     "text": [
      "4/4 [==============================] - 0s 22ms/step - loss: 0.1461 - mse: 0.0016 - val_loss: 0.1438 - val_mse: 6.7762e-04\n",
      "Epoch 366/500\n",
      "4/4 [==============================] - 0s 21ms/step - loss: 0.1451 - mse: 0.0016 - val_loss: 0.1433 - val_mse: 7.5218e-04\n",
      "Epoch 367/500\n",
      "4/4 [==============================] - 0s 22ms/step - loss: 0.1442 - mse: 0.0016 - val_loss: 0.1419 - val_mse: 6.7514e-04\n",
      "Epoch 368/500\n",
      "4/4 [==============================] - 0s 22ms/step - loss: 0.1434 - mse: 0.0016 - val_loss: 0.1408 - val_mse: 7.2503e-04\n",
      "Epoch 369/500\n",
      "4/4 [==============================] - 0s 22ms/step - loss: 0.1420 - mse: 0.0016 - val_loss: 0.1395 - val_mse: 7.0900e-04\n",
      "Epoch 370/500\n",
      "4/4 [==============================] - 0s 22ms/step - loss: 0.1409 - mse: 0.0016 - val_loss: 0.1384 - val_mse: 6.7435e-04\n",
      "Epoch 371/500\n",
      "4/4 [==============================] - 0s 22ms/step - loss: 0.1399 - mse: 0.0016 - val_loss: 0.1382 - val_mse: 7.7585e-04\n",
      "Epoch 372/500\n",
      "4/4 [==============================] - 0s 26ms/step - loss: 0.1389 - mse: 0.0016 - val_loss: 0.1363 - val_mse: 6.7850e-04\n",
      "Epoch 373/500\n",
      "4/4 [==============================] - 0s 23ms/step - loss: 0.1376 - mse: 0.0016 - val_loss: 0.1351 - val_mse: 6.8351e-04\n",
      "Epoch 374/500\n",
      "4/4 [==============================] - 0s 22ms/step - loss: 0.1366 - mse: 0.0016 - val_loss: 0.1343 - val_mse: 7.1229e-04\n",
      "Epoch 375/500\n",
      "4/4 [==============================] - 0s 22ms/step - loss: 0.1356 - mse: 0.0016 - val_loss: 0.1332 - val_mse: 6.8514e-04\n",
      "Epoch 376/500\n",
      "4/4 [==============================] - 0s 22ms/step - loss: 0.1345 - mse: 0.0016 - val_loss: 0.1324 - val_mse: 6.8086e-04\n",
      "Epoch 377/500\n",
      "4/4 [==============================] - 0s 22ms/step - loss: 0.1335 - mse: 0.0016 - val_loss: 0.1314 - val_mse: 7.0699e-04\n",
      "Epoch 378/500\n",
      "4/4 [==============================] - 0s 22ms/step - loss: 0.1325 - mse: 0.0016 - val_loss: 0.1302 - val_mse: 6.7331e-04\n",
      "Epoch 379/500\n",
      "4/4 [==============================] - 0s 23ms/step - loss: 0.1316 - mse: 0.0016 - val_loss: 0.1294 - val_mse: 7.0544e-04\n",
      "Epoch 380/500\n",
      "4/4 [==============================] - 0s 23ms/step - loss: 0.1305 - mse: 0.0016 - val_loss: 0.1285 - val_mse: 6.9254e-04\n",
      "Epoch 381/500\n",
      "4/4 [==============================] - 0s 21ms/step - loss: 0.1297 - mse: 0.0016 - val_loss: 0.1275 - val_mse: 6.7424e-04\n",
      "Epoch 382/500\n",
      "4/4 [==============================] - 0s 22ms/step - loss: 0.1289 - mse: 0.0016 - val_loss: 0.1264 - val_mse: 6.7782e-04\n",
      "Epoch 383/500\n",
      "4/4 [==============================] - 0s 23ms/step - loss: 0.1280 - mse: 0.0016 - val_loss: 0.1258 - val_mse: 7.1382e-04\n",
      "Epoch 384/500\n",
      "4/4 [==============================] - 0s 22ms/step - loss: 0.1268 - mse: 0.0016 - val_loss: 0.1247 - val_mse: 6.6588e-04\n",
      "Epoch 385/500\n",
      "4/4 [==============================] - 0s 22ms/step - loss: 0.1259 - mse: 0.0016 - val_loss: 0.1242 - val_mse: 7.4029e-04\n",
      "Epoch 386/500\n",
      "4/4 [==============================] - 0s 24ms/step - loss: 0.1251 - mse: 0.0016 - val_loss: 0.1231 - val_mse: 6.6716e-04\n",
      "Epoch 387/500\n",
      "4/4 [==============================] - 0s 23ms/step - loss: 0.1244 - mse: 0.0016 - val_loss: 0.1220 - val_mse: 6.7873e-04\n",
      "Epoch 388/500\n",
      "4/4 [==============================] - 0s 22ms/step - loss: 0.1235 - mse: 0.0016 - val_loss: 0.1216 - val_mse: 7.4236e-04\n",
      "Epoch 389/500\n",
      "4/4 [==============================] - 0s 25ms/step - loss: 0.1227 - mse: 0.0016 - val_loss: 0.1205 - val_mse: 6.6610e-04\n",
      "Epoch 390/500\n",
      "4/4 [==============================] - 0s 22ms/step - loss: 0.1217 - mse: 0.0016 - val_loss: 0.1194 - val_mse: 6.9239e-04\n",
      "Epoch 391/500\n",
      "4/4 [==============================] - 0s 23ms/step - loss: 0.1205 - mse: 0.0016 - val_loss: 0.1185 - val_mse: 6.9170e-04\n",
      "Epoch 392/500\n",
      "4/4 [==============================] - 0s 23ms/step - loss: 0.1198 - mse: 0.0016 - val_loss: 0.1180 - val_mse: 6.6438e-04\n",
      "Epoch 393/500\n",
      "4/4 [==============================] - 0s 23ms/step - loss: 0.1190 - mse: 0.0016 - val_loss: 0.1174 - val_mse: 7.4019e-04\n",
      "Epoch 394/500\n",
      "4/4 [==============================] - 0s 22ms/step - loss: 0.1182 - mse: 0.0016 - val_loss: 0.1160 - val_mse: 6.6818e-04\n",
      "Epoch 395/500\n",
      "4/4 [==============================] - 0s 22ms/step - loss: 0.1172 - mse: 0.0016 - val_loss: 0.1153 - val_mse: 6.9431e-04\n",
      "Epoch 396/500\n",
      "4/4 [==============================] - 0s 22ms/step - loss: 0.1164 - mse: 0.0016 - val_loss: 0.1146 - val_mse: 6.9097e-04\n",
      "Epoch 397/500\n",
      "4/4 [==============================] - 0s 22ms/step - loss: 0.1155 - mse: 0.0015 - val_loss: 0.1137 - val_mse: 6.7639e-04\n",
      "Epoch 398/500\n",
      "4/4 [==============================] - 0s 24ms/step - loss: 0.1148 - mse: 0.0016 - val_loss: 0.1129 - val_mse: 6.8632e-04\n",
      "Epoch 399/500\n",
      "4/4 [==============================] - 0s 22ms/step - loss: 0.1139 - mse: 0.0016 - val_loss: 0.1124 - val_mse: 7.1097e-04\n",
      "Epoch 400/500\n",
      "4/4 [==============================] - 0s 22ms/step - loss: 0.1133 - mse: 0.0015 - val_loss: 0.1117 - val_mse: 6.6801e-04\n",
      "Epoch 401/500\n",
      "4/4 [==============================] - 0s 22ms/step - loss: 0.1128 - mse: 0.0016 - val_loss: 0.1114 - val_mse: 7.5096e-04\n",
      "Epoch 402/500\n",
      "4/4 [==============================] - 0s 22ms/step - loss: 0.1119 - mse: 0.0016 - val_loss: 0.1099 - val_mse: 6.7520e-04\n",
      "Epoch 403/500\n",
      "4/4 [==============================] - 0s 22ms/step - loss: 0.1108 - mse: 0.0016 - val_loss: 0.1090 - val_mse: 6.7965e-04\n",
      "Epoch 404/500\n",
      "4/4 [==============================] - 0s 22ms/step - loss: 0.1101 - mse: 0.0015 - val_loss: 0.1085 - val_mse: 6.8104e-04\n",
      "Epoch 405/500\n",
      "4/4 [==============================] - 0s 23ms/step - loss: 0.1092 - mse: 0.0015 - val_loss: 0.1077 - val_mse: 7.0762e-04\n",
      "Epoch 406/500\n",
      "4/4 [==============================] - 0s 24ms/step - loss: 0.1085 - mse: 0.0015 - val_loss: 0.1069 - val_mse: 6.7161e-04\n",
      "Epoch 407/500\n",
      "4/4 [==============================] - 0s 21ms/step - loss: 0.1079 - mse: 0.0016 - val_loss: 0.1064 - val_mse: 7.2576e-04\n",
      "Epoch 408/500\n",
      "4/4 [==============================] - 0s 23ms/step - loss: 0.1072 - mse: 0.0015 - val_loss: 0.1057 - val_mse: 6.7420e-04\n",
      "Epoch 409/500\n",
      "4/4 [==============================] - 0s 23ms/step - loss: 0.1064 - mse: 0.0015 - val_loss: 0.1049 - val_mse: 7.1203e-04\n",
      "Epoch 410/500\n",
      "4/4 [==============================] - 0s 22ms/step - loss: 0.1057 - mse: 0.0016 - val_loss: 0.1039 - val_mse: 6.8367e-04\n",
      "Epoch 411/500\n",
      "4/4 [==============================] - 0s 21ms/step - loss: 0.1049 - mse: 0.0015 - val_loss: 0.1032 - val_mse: 6.7215e-04\n",
      "Epoch 412/500\n",
      "4/4 [==============================] - 0s 22ms/step - loss: 0.1042 - mse: 0.0015 - val_loss: 0.1029 - val_mse: 7.1563e-04\n",
      "Epoch 413/500\n",
      "4/4 [==============================] - 0s 21ms/step - loss: 0.1037 - mse: 0.0016 - val_loss: 0.1021 - val_mse: 6.6140e-04\n",
      "Epoch 414/500\n",
      "4/4 [==============================] - 0s 21ms/step - loss: 0.1030 - mse: 0.0015 - val_loss: 0.1012 - val_mse: 6.7923e-04\n",
      "Epoch 415/500\n",
      "4/4 [==============================] - 0s 22ms/step - loss: 0.1023 - mse: 0.0016 - val_loss: 0.1011 - val_mse: 7.3462e-04\n",
      "Epoch 416/500\n",
      "4/4 [==============================] - 0s 21ms/step - loss: 0.1019 - mse: 0.0015 - val_loss: 0.1002 - val_mse: 6.6730e-04\n",
      "Epoch 417/500\n",
      "4/4 [==============================] - 0s 22ms/step - loss: 0.1011 - mse: 0.0015 - val_loss: 0.0994 - val_mse: 6.7610e-04\n",
      "Epoch 418/500\n",
      "4/4 [==============================] - 0s 22ms/step - loss: 0.1005 - mse: 0.0016 - val_loss: 0.0999 - val_mse: 7.8319e-04\n",
      "Epoch 419/500\n",
      "4/4 [==============================] - 0s 22ms/step - loss: 0.1004 - mse: 0.0015 - val_loss: 0.0988 - val_mse: 6.7983e-04\n",
      "Epoch 420/500\n",
      "4/4 [==============================] - 0s 21ms/step - loss: 0.0994 - mse: 0.0016 - val_loss: 0.0977 - val_mse: 7.0302e-04\n",
      "Epoch 421/500\n",
      "4/4 [==============================] - 0s 22ms/step - loss: 0.0986 - mse: 0.0016 - val_loss: 0.0972 - val_mse: 7.1747e-04\n",
      "Epoch 422/500\n",
      "4/4 [==============================] - 0s 22ms/step - loss: 0.0978 - mse: 0.0015 - val_loss: 0.0962 - val_mse: 6.8825e-04\n",
      "Epoch 423/500\n",
      "4/4 [==============================] - 0s 22ms/step - loss: 0.0970 - mse: 0.0015 - val_loss: 0.0960 - val_mse: 7.2057e-04\n",
      "Epoch 424/500\n",
      "4/4 [==============================] - 0s 21ms/step - loss: 0.0966 - mse: 0.0016 - val_loss: 0.0954 - val_mse: 7.2685e-04\n",
      "Epoch 425/500\n",
      "4/4 [==============================] - 0s 21ms/step - loss: 0.0962 - mse: 0.0016 - val_loss: 0.0943 - val_mse: 6.8085e-04\n",
      "Epoch 426/500\n",
      "4/4 [==============================] - 0s 21ms/step - loss: 0.0952 - mse: 0.0015 - val_loss: 0.0938 - val_mse: 6.7187e-04\n",
      "Epoch 427/500\n",
      "4/4 [==============================] - 0s 22ms/step - loss: 0.0946 - mse: 0.0015 - val_loss: 0.0933 - val_mse: 6.9335e-04\n",
      "Epoch 428/500\n",
      "4/4 [==============================] - 0s 23ms/step - loss: 0.0940 - mse: 0.0015 - val_loss: 0.0926 - val_mse: 6.7975e-04\n",
      "Epoch 429/500\n",
      "4/4 [==============================] - 0s 23ms/step - loss: 0.0934 - mse: 0.0015 - val_loss: 0.0920 - val_mse: 6.7877e-04\n",
      "Epoch 430/500\n",
      "4/4 [==============================] - 0s 22ms/step - loss: 0.0929 - mse: 0.0016 - val_loss: 0.0919 - val_mse: 7.2754e-04\n",
      "Epoch 431/500\n",
      "4/4 [==============================] - 0s 21ms/step - loss: 0.0925 - mse: 0.0015 - val_loss: 0.0911 - val_mse: 6.6904e-04\n",
      "Epoch 432/500\n",
      "4/4 [==============================] - 0s 21ms/step - loss: 0.0920 - mse: 0.0015 - val_loss: 0.0904 - val_mse: 6.7143e-04\n",
      "Epoch 433/500\n",
      "4/4 [==============================] - 0s 22ms/step - loss: 0.0913 - mse: 0.0016 - val_loss: 0.0898 - val_mse: 6.8791e-04\n",
      "Epoch 434/500\n",
      "4/4 [==============================] - 0s 22ms/step - loss: 0.0906 - mse: 0.0015 - val_loss: 0.0894 - val_mse: 6.7986e-04\n",
      "Epoch 435/500\n",
      "4/4 [==============================] - 0s 21ms/step - loss: 0.0900 - mse: 0.0015 - val_loss: 0.0887 - val_mse: 6.8787e-04\n",
      "Epoch 436/500\n",
      "4/4 [==============================] - 0s 22ms/step - loss: 0.0895 - mse: 0.0015 - val_loss: 0.0886 - val_mse: 7.2067e-04\n",
      "Epoch 437/500\n",
      "4/4 [==============================] - 0s 22ms/step - loss: 0.0894 - mse: 0.0015 - val_loss: 0.0877 - val_mse: 6.7749e-04\n",
      "Epoch 438/500\n",
      "4/4 [==============================] - 0s 23ms/step - loss: 0.0885 - mse: 0.0015 - val_loss: 0.0871 - val_mse: 6.6920e-04\n",
      "Epoch 439/500\n",
      "4/4 [==============================] - 0s 22ms/step - loss: 0.0880 - mse: 0.0015 - val_loss: 0.0867 - val_mse: 6.7370e-04\n",
      "Epoch 440/500\n",
      "4/4 [==============================] - 0s 23ms/step - loss: 0.0875 - mse: 0.0015 - val_loss: 0.0866 - val_mse: 7.2593e-04\n",
      "Epoch 441/500\n",
      "4/4 [==============================] - 0s 22ms/step - loss: 0.0871 - mse: 0.0015 - val_loss: 0.0859 - val_mse: 6.8289e-04\n",
      "Epoch 442/500\n",
      "4/4 [==============================] - 0s 24ms/step - loss: 0.0864 - mse: 0.0015 - val_loss: 0.0854 - val_mse: 6.9976e-04\n",
      "Epoch 443/500\n",
      "4/4 [==============================] - 0s 22ms/step - loss: 0.0859 - mse: 0.0015 - val_loss: 0.0849 - val_mse: 7.2156e-04\n",
      "Epoch 444/500\n",
      "4/4 [==============================] - 0s 25ms/step - loss: 0.0856 - mse: 0.0015 - val_loss: 0.0846 - val_mse: 6.7134e-04\n",
      "Epoch 445/500\n",
      "4/4 [==============================] - 0s 23ms/step - loss: 0.0852 - mse: 0.0015 - val_loss: 0.0839 - val_mse: 6.9428e-04\n",
      "Epoch 446/500\n",
      "4/4 [==============================] - 0s 22ms/step - loss: 0.0845 - mse: 0.0015 - val_loss: 0.0836 - val_mse: 7.1442e-04\n",
      "Epoch 447/500\n",
      "4/4 [==============================] - 0s 22ms/step - loss: 0.0840 - mse: 0.0015 - val_loss: 0.0828 - val_mse: 6.8829e-04\n",
      "Epoch 448/500\n",
      "4/4 [==============================] - 0s 22ms/step - loss: 0.0835 - mse: 0.0015 - val_loss: 0.0824 - val_mse: 6.7153e-04\n",
      "Epoch 449/500\n",
      "4/4 [==============================] - 0s 22ms/step - loss: 0.0830 - mse: 0.0015 - val_loss: 0.0821 - val_mse: 6.7626e-04\n",
      "Epoch 450/500\n",
      "4/4 [==============================] - 0s 25ms/step - loss: 0.0827 - mse: 0.0015 - val_loss: 0.0825 - val_mse: 7.7377e-04\n",
      "Epoch 451/500\n",
      "4/4 [==============================] - 0s 25ms/step - loss: 0.0824 - mse: 0.0015 - val_loss: 0.0817 - val_mse: 6.7726e-04\n",
      "Epoch 452/500\n",
      "4/4 [==============================] - 0s 24ms/step - loss: 0.0822 - mse: 0.0016 - val_loss: 0.0805 - val_mse: 6.7673e-04\n",
      "Epoch 453/500\n",
      "4/4 [==============================] - 0s 25ms/step - loss: 0.0818 - mse: 0.0016 - val_loss: 0.0807 - val_mse: 7.3363e-04\n",
      "Epoch 454/500\n",
      "4/4 [==============================] - 0s 24ms/step - loss: 0.0813 - mse: 0.0015 - val_loss: 0.0802 - val_mse: 6.5881e-04\n",
      "Epoch 455/500\n",
      "4/4 [==============================] - 0s 25ms/step - loss: 0.0806 - mse: 0.0015 - val_loss: 0.0796 - val_mse: 7.1062e-04\n",
      "Epoch 456/500\n",
      "4/4 [==============================] - 0s 26ms/step - loss: 0.0802 - mse: 0.0015 - val_loss: 0.0789 - val_mse: 6.8656e-04\n",
      "Epoch 457/500\n",
      "4/4 [==============================] - 0s 24ms/step - loss: 0.0796 - mse: 0.0015 - val_loss: 0.0785 - val_mse: 6.6807e-04\n",
      "Epoch 458/500\n",
      "4/4 [==============================] - 0s 23ms/step - loss: 0.0790 - mse: 0.0015 - val_loss: 0.0779 - val_mse: 6.9561e-04\n",
      "Epoch 459/500\n",
      "4/4 [==============================] - 0s 22ms/step - loss: 0.0785 - mse: 0.0015 - val_loss: 0.0776 - val_mse: 6.7937e-04\n",
      "Epoch 460/500\n",
      "4/4 [==============================] - 0s 22ms/step - loss: 0.0782 - mse: 0.0015 - val_loss: 0.0773 - val_mse: 6.6610e-04\n",
      "Epoch 461/500\n",
      "4/4 [==============================] - 0s 29ms/step - loss: 0.0779 - mse: 0.0015 - val_loss: 0.0766 - val_mse: 6.7683e-04\n",
      "Epoch 462/500\n",
      "4/4 [==============================] - 0s 23ms/step - loss: 0.0772 - mse: 0.0015 - val_loss: 0.0762 - val_mse: 6.7167e-04\n",
      "Epoch 463/500\n",
      "4/4 [==============================] - 0s 24ms/step - loss: 0.0768 - mse: 0.0015 - val_loss: 0.0759 - val_mse: 6.6366e-04\n",
      "Epoch 464/500\n",
      "4/4 [==============================] - 0s 23ms/step - loss: 0.0764 - mse: 0.0015 - val_loss: 0.0756 - val_mse: 7.0048e-04\n",
      "Epoch 465/500\n",
      "4/4 [==============================] - 0s 24ms/step - loss: 0.0761 - mse: 0.0015 - val_loss: 0.0752 - val_mse: 6.7108e-04\n",
      "Epoch 466/500\n",
      "4/4 [==============================] - 0s 25ms/step - loss: 0.0756 - mse: 0.0015 - val_loss: 0.0749 - val_mse: 6.8935e-04\n",
      "Epoch 467/500\n",
      "4/4 [==============================] - 0s 29ms/step - loss: 0.0752 - mse: 0.0015 - val_loss: 0.0744 - val_mse: 6.7360e-04\n",
      "Epoch 468/500\n",
      "4/4 [==============================] - 0s 26ms/step - loss: 0.0748 - mse: 0.0015 - val_loss: 0.0741 - val_mse: 7.0999e-04\n",
      "Epoch 469/500\n",
      "4/4 [==============================] - 0s 24ms/step - loss: 0.0744 - mse: 0.0015 - val_loss: 0.0738 - val_mse: 6.7584e-04\n",
      "Epoch 470/500\n",
      "4/4 [==============================] - 0s 23ms/step - loss: 0.0741 - mse: 0.0015 - val_loss: 0.0735 - val_mse: 7.2631e-04\n",
      "Epoch 471/500\n",
      "4/4 [==============================] - 0s 22ms/step - loss: 0.0739 - mse: 0.0015 - val_loss: 0.0732 - val_mse: 7.1191e-04\n",
      "Epoch 472/500\n",
      "4/4 [==============================] - 0s 23ms/step - loss: 0.0736 - mse: 0.0015 - val_loss: 0.0731 - val_mse: 6.8562e-04\n",
      "Epoch 473/500\n",
      "4/4 [==============================] - 0s 23ms/step - loss: 0.0732 - mse: 0.0015 - val_loss: 0.0725 - val_mse: 7.2089e-04\n",
      "Epoch 474/500\n",
      "4/4 [==============================] - 0s 24ms/step - loss: 0.0726 - mse: 0.0015 - val_loss: 0.0721 - val_mse: 6.9815e-04\n",
      "Epoch 475/500\n",
      "4/4 [==============================] - 0s 24ms/step - loss: 0.0722 - mse: 0.0015 - val_loss: 0.0716 - val_mse: 6.8335e-04\n",
      "Epoch 476/500\n",
      "4/4 [==============================] - 0s 22ms/step - loss: 0.0719 - mse: 0.0015 - val_loss: 0.0712 - val_mse: 6.9232e-04\n",
      "Epoch 477/500\n",
      "4/4 [==============================] - 0s 23ms/step - loss: 0.0715 - mse: 0.0015 - val_loss: 0.0708 - val_mse: 7.0016e-04\n",
      "Epoch 478/500\n",
      "4/4 [==============================] - 0s 22ms/step - loss: 0.0712 - mse: 0.0015 - val_loss: 0.0708 - val_mse: 7.2549e-04\n",
      "Epoch 479/500\n",
      "4/4 [==============================] - 0s 22ms/step - loss: 0.0708 - mse: 0.0015 - val_loss: 0.0705 - val_mse: 6.7478e-04\n",
      "Epoch 480/500\n",
      "4/4 [==============================] - 0s 22ms/step - loss: 0.0707 - mse: 0.0015 - val_loss: 0.0700 - val_mse: 7.1936e-04\n",
      "Epoch 481/500\n",
      "4/4 [==============================] - 0s 22ms/step - loss: 0.0702 - mse: 0.0015 - val_loss: 0.0695 - val_mse: 6.9836e-04\n",
      "Epoch 482/500\n",
      "4/4 [==============================] - 0s 23ms/step - loss: 0.0697 - mse: 0.0015 - val_loss: 0.0690 - val_mse: 6.9696e-04\n",
      "Epoch 483/500\n",
      "4/4 [==============================] - 0s 22ms/step - loss: 0.0694 - mse: 0.0015 - val_loss: 0.0689 - val_mse: 7.2447e-04\n",
      "Epoch 484/500\n",
      "4/4 [==============================] - 0s 22ms/step - loss: 0.0692 - mse: 0.0015 - val_loss: 0.0684 - val_mse: 6.8502e-04\n",
      "Epoch 485/500\n"
     ]
    },
    {
     "name": "stdout",
     "output_type": "stream",
     "text": [
      "4/4 [==============================] - 0s 22ms/step - loss: 0.0687 - mse: 0.0015 - val_loss: 0.0683 - val_mse: 7.1890e-04\n",
      "Epoch 486/500\n",
      "4/4 [==============================] - 0s 24ms/step - loss: 0.0684 - mse: 0.0015 - val_loss: 0.0680 - val_mse: 6.9973e-04\n",
      "Epoch 487/500\n",
      "4/4 [==============================] - 0s 24ms/step - loss: 0.0681 - mse: 0.0015 - val_loss: 0.0676 - val_mse: 6.9247e-04\n",
      "Epoch 488/500\n",
      "4/4 [==============================] - 0s 24ms/step - loss: 0.0678 - mse: 0.0015 - val_loss: 0.0672 - val_mse: 7.1058e-04\n",
      "Epoch 489/500\n",
      "4/4 [==============================] - 0s 22ms/step - loss: 0.0673 - mse: 0.0015 - val_loss: 0.0669 - val_mse: 6.9325e-04\n",
      "Epoch 490/500\n",
      "4/4 [==============================] - 0s 22ms/step - loss: 0.0671 - mse: 0.0015 - val_loss: 0.0667 - val_mse: 7.2575e-04\n",
      "Epoch 491/500\n",
      "4/4 [==============================] - 0s 21ms/step - loss: 0.0667 - mse: 0.0015 - val_loss: 0.0664 - val_mse: 7.0174e-04\n",
      "Epoch 492/500\n",
      "4/4 [==============================] - 0s 21ms/step - loss: 0.0665 - mse: 0.0015 - val_loss: 0.0660 - val_mse: 7.0401e-04\n",
      "Epoch 493/500\n",
      "4/4 [==============================] - 0s 21ms/step - loss: 0.0661 - mse: 0.0015 - val_loss: 0.0658 - val_mse: 7.2011e-04\n",
      "Epoch 494/500\n",
      "4/4 [==============================] - 0s 26ms/step - loss: 0.0658 - mse: 0.0015 - val_loss: 0.0654 - val_mse: 6.8735e-04\n",
      "Epoch 495/500\n",
      "4/4 [==============================] - 0s 22ms/step - loss: 0.0658 - mse: 0.0015 - val_loss: 0.0653 - val_mse: 6.9807e-04\n",
      "Epoch 496/500\n",
      "4/4 [==============================] - 0s 23ms/step - loss: 0.0655 - mse: 0.0015 - val_loss: 0.0654 - val_mse: 7.5410e-04\n",
      "Epoch 497/500\n",
      "4/4 [==============================] - 0s 24ms/step - loss: 0.0653 - mse: 0.0015 - val_loss: 0.0647 - val_mse: 6.9547e-04\n",
      "Epoch 498/500\n",
      "4/4 [==============================] - 0s 24ms/step - loss: 0.0649 - mse: 0.0015 - val_loss: 0.0645 - val_mse: 7.2168e-04\n",
      "Epoch 499/500\n",
      "4/4 [==============================] - 0s 23ms/step - loss: 0.0647 - mse: 0.0015 - val_loss: 0.0651 - val_mse: 7.9743e-04\n",
      "Epoch 500/500\n",
      "4/4 [==============================] - 0s 24ms/step - loss: 0.0648 - mse: 0.0015 - val_loss: 0.0647 - val_mse: 7.0590e-04\n",
      "3/3 [==============================] - 0s 6ms/step - loss: 0.0693 - mse: 0.0022\n"
     ]
    }
   ],
   "source": [
    "# makine öğrenimi deneyi için gereken görselleştirmeyi ve araçları sağlar\n",
    "tensorboard_callback= TensorBoard(log_dir=\"logs\")\n",
    "\n",
    "model.fit(\n",
    "    X_train,\n",
    "    Y_train,\n",
    "    epochs=500, \n",
    "    batch_size=400, \n",
    "    validation_split=0.05, \n",
    "    callbacks=[tensorboard_callback])\n",
    "\n",
    "results= model.evaluate(X_test, Y_test)"
   ]
  },
  {
   "cell_type": "code",
   "execution_count": 21,
   "id": "05e0a2c1",
   "metadata": {},
   "outputs": [
    {
     "name": "stdout",
     "output_type": "stream",
     "text": [
      "[0.06934507191181183, 0.002233927370980382]\n"
     ]
    }
   ],
   "source": [
    "print(results)"
   ]
  },
  {
   "cell_type": "code",
   "execution_count": 23,
   "id": "143819d0",
   "metadata": {},
   "outputs": [
    {
     "data": {
      "image/png": "[encoded data removed]",
      "text/plain": [
       "<Figure size 1008x432 with 1 Axes>"
      ]
     },
     "metadata": {
      "needs_background": "light"
     },
     "output_type": "display_data"
    },
    {
     "data": {
      "image/png": "[encoded data removed]",
      "text/plain": [
       "<Figure size 1008x432 with 1 Axes>"
      ]
     },
     "metadata": {
      "needs_background": "light"
     },
     "output_type": "display_data"
    }
   ],
   "source": [
    "def print_regression_line(model,X_print,X,Y):\n",
    "  plt.rcParams[\"figure.figsize\"]=(14,6)\n",
    "  plt.rcParams[\"lines.linewidth\"]= 3\n",
    "  plt.rcParams[\"axes.labelsize\"]= 20\n",
    "  plt.scatter(X_print, Y, label=\"Real\")\n",
    "  plt.scatter(X_print, model.predict(X).flatten(), label=\"Predecido\")\n",
    "  plt.legend([\"Real\", \"Predecido\"])\n",
    "  plt.show()\n",
    "\n",
    "print_regression_line(model,datos[\"LotArea\"],X_train,Y_train)\n",
    "print_regression_line(model,datos_test[\"LotArea\"],X_test,Y_test)"
   ]
  },
  {
   "cell_type": "code",
   "execution_count": 25,
   "id": "f5c136fe",
   "metadata": {},
   "outputs": [
    {
     "name": "stdout",
     "output_type": "stream",
     "text": [
      "tf.Tensor(\n",
      "[[-6.00000000e-01 -1.57894737e-01  3.47684621e+00 ... -1.00000000e+00\n",
      "  -5.00000000e-01  1.00000000e+00]\n",
      " [ 0.00000000e+00  8.42105263e-01  2.43724104e-03 ...  6.66666667e-01\n",
      "  -1.00000000e+00  0.00000000e+00]\n",
      " [ 0.00000000e+00 -1.57894737e-01 -6.00779917e-01 ...  3.33333333e-01\n",
      "   5.00000000e-01  1.00000000e+00]\n",
      " ...\n",
      " [ 2.00000000e-01  4.21052632e-01 -4.10675116e-01 ...  3.33333333e-01\n",
      "   5.00000000e-01  0.00000000e+00]\n",
      " [ 2.80000000e+00 -6.84210526e-01 -5.02071655e-01 ... -1.66666667e+00\n",
      "   0.00000000e+00  0.00000000e+00]\n",
      " [-6.00000000e-01  5.78947368e-01  1.76943700e-01 ...  3.33333333e-01\n",
      "   5.00000000e-01  0.00000000e+00]], shape=(73, 37), dtype=float64)\n"
     ]
    }
   ],
   "source": [
    "# data tipi tensor şeklinde geliyor burayı tam anlamadım\n",
    "\n",
    "from sklearn.ensemble import RandomForestClassifier\n",
    "\n",
    "rf = RandomForestClassifier(n_estimators=100,random_state=1)\n",
    "rf.fit(X_train,Y_train)\n",
    "\n",
    "print(\"Rastgele Orman Modeli Test Doğruluğu: {}\".format(rf.score(X_test,Y_test)))"
   ]
  },
  {
   "cell_type": "code",
   "execution_count": null,
   "id": "e2dcab2d",
   "metadata": {},
   "outputs": [],
   "source": []
  }
 ],
 "metadata": {
  "kernelspec": {
   "display_name": "Python 3 (ipykernel)",
   "language": "python",
   "name": "python3"
  },
  "language_info": {
   "codemirror_mode": {
    "name": "ipython",
    "version": 3
   },
   "file_extension": ".py",
   "mimetype": "text/x-python",
   "name": "python",
   "nbconvert_exporter": "python",
   "pygments_lexer": "ipython3",
   "version": "3.9.12"
  }
 },
 "nbformat": 4,
 "nbformat_minor": 5
}
